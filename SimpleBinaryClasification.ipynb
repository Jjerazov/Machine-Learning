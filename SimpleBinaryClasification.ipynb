{
 "cells": [
  {
   "cell_type": "code",
   "execution_count": 80,
   "id": "25d497ad",
   "metadata": {},
   "outputs": [],
   "source": [
    "cd(\"C:/Users/JOHN VEGA/Documents/Machine Learning\")"
   ]
  },
  {
   "cell_type": "markdown",
   "id": "4135709d",
   "metadata": {},
   "source": [
    "## 1. Split the data into training and test (consider class imbalance).\n",
    "In first place, the data is charged, and It's separated in $R$ from $Rocks$ and $M$ from $Mines$ to determinate the size for the cases. The $Nmr$ vector show $97$ $R$ entrys and $111$ $M$ entrys."
   ]
  },
  {
   "cell_type": "code",
   "execution_count": 81,
   "id": "a9ac5ab1",
   "metadata": {
    "scrolled": true
   },
   "outputs": [
    {
     "data": {
      "text/plain": [
       "1×2 Matrix{Int64}:\n",
       " 97  111"
      ]
     },
     "execution_count": 81,
     "metadata": {},
     "output_type": "execute_result"
    }
   ],
   "source": [
    "using CSV\n",
    "using DataFrames\n",
    "\n",
    "dataradar = CSV.read(\"data/sonar.csv\",DataFrame);\n",
    "dataradar.b\n",
    "R_data=filter(:b=>x->x==\"R\",dataradar)\n",
    "M_data=filter(:b=>x->x==\"M\",dataradar)\n",
    "Nmr=[size(R_data.b)[1] size(M_data.b)[1]]"
   ]
  },
  {
   "cell_type": "markdown",
   "id": "03764722",
   "metadata": {},
   "source": [
    "The data is splited in $4$ groups, the $85%$ of the $R$ and the $M$ entrys are chossen randomly to the Training data, the remaining $15%$ of each go to the Test data.\n",
    "The $Sizes$ matrix shows the number of entrys for each of the $4$ groups "
   ]
  },
  {
   "cell_type": "code",
   "execution_count": 82,
   "id": "62a360bd",
   "metadata": {},
   "outputs": [
    {
     "data": {
      "text/plain": [
       "2×2 Matrix{Int64}:\n",
       " 82  15\n",
       " 94  17"
      ]
     },
     "execution_count": 82,
     "metadata": {},
     "output_type": "execute_result"
    }
   ],
   "source": [
    "R_order=rand(Float64, (Nmr[1],1));\n",
    "M_order=rand(Float64, (Nmr[2],1));\n",
    "R_data.order.=R_order;\n",
    "M_data.order.=M_order;\n",
    "sort!(R_data, :order);\n",
    "sort!(M_data, :order);\n",
    "[issorted(R_data. :order) issorted(M_data, :order)];\n",
    "R_trainS= floor(Int, Nmr[1]*0.85)\n",
    "R_train=first(R_data, R_trainS)\n",
    "M_trainS= floor(Int, Nmr[2]*0.85)\n",
    "M_train=first(M_data, M_trainS)\n",
    "R_testS= ceil(Int, Nmr[1]*0.15)\n",
    "R_test=last(R_data, R_testS)\n",
    "M_testS= ceil(Int, Nmr[2]*0.15)\n",
    "M_test=first(M_data, M_testS)\n",
    "Sizes=[R_trainS R_testS; M_trainS M_testS]"
   ]
  },
  {
   "cell_type": "code",
   "execution_count": 83,
   "id": "6f95ce0c",
   "metadata": {},
   "outputs": [
    {
     "data": {
      "text/html": [
       "<div class=\"data-frame\"><p>32 rows × 62 columns (omitted printing of 53 columns)</p><table class=\"data-frame\"><thead><tr><th></th><th>a1</th><th>a2</th><th>a3</th><th>a4</th><th>a5</th><th>a6</th><th>a7</th><th>a8</th><th>a9</th></tr><tr><th></th><th title=\"Float64\">Float64</th><th title=\"Float64\">Float64</th><th title=\"Float64\">Float64</th><th title=\"Float64\">Float64</th><th title=\"Float64\">Float64</th><th title=\"Float64\">Float64</th><th title=\"Float64\">Float64</th><th title=\"Float64\">Float64</th><th title=\"Float64\">Float64</th></tr></thead><tbody><tr><th>1</th><td>0.0201</td><td>0.0026</td><td>0.0138</td><td>0.0062</td><td>0.0133</td><td>0.0151</td><td>0.0541</td><td>0.021</td><td>0.0505</td></tr><tr><th>2</th><td>0.019</td><td>0.0038</td><td>0.0642</td><td>0.0452</td><td>0.0333</td><td>0.069</td><td>0.0901</td><td>0.1454</td><td>0.074</td></tr><tr><th>3</th><td>0.027</td><td>0.0092</td><td>0.0145</td><td>0.0278</td><td>0.0412</td><td>0.0757</td><td>0.1026</td><td>0.1138</td><td>0.0794</td></tr><tr><th>4</th><td>0.0365</td><td>0.1632</td><td>0.1636</td><td>0.1421</td><td>0.113</td><td>0.1306</td><td>0.2112</td><td>0.2268</td><td>0.2992</td></tr><tr><th>5</th><td>0.0298</td><td>0.0615</td><td>0.065</td><td>0.0921</td><td>0.1615</td><td>0.2294</td><td>0.2176</td><td>0.2033</td><td>0.1459</td></tr><tr><th>6</th><td>0.0257</td><td>0.0447</td><td>0.0388</td><td>0.0239</td><td>0.1315</td><td>0.1323</td><td>0.1608</td><td>0.2145</td><td>0.0847</td></tr><tr><th>7</th><td>0.0099</td><td>0.0484</td><td>0.0299</td><td>0.0297</td><td>0.0652</td><td>0.1077</td><td>0.2363</td><td>0.2385</td><td>0.0075</td></tr><tr><th>8</th><td>0.0336</td><td>0.0294</td><td>0.0476</td><td>0.0539</td><td>0.0794</td><td>0.0804</td><td>0.1136</td><td>0.1228</td><td>0.1235</td></tr><tr><th>9</th><td>0.0274</td><td>0.0242</td><td>0.0621</td><td>0.056</td><td>0.1129</td><td>0.0973</td><td>0.1823</td><td>0.1745</td><td>0.144</td></tr><tr><th>10</th><td>0.0459</td><td>0.0437</td><td>0.0347</td><td>0.0456</td><td>0.0067</td><td>0.089</td><td>0.1798</td><td>0.1741</td><td>0.1598</td></tr><tr><th>11</th><td>0.0084</td><td>0.0153</td><td>0.0291</td><td>0.0432</td><td>0.0951</td><td>0.0752</td><td>0.0414</td><td>0.0259</td><td>0.0692</td></tr><tr><th>12</th><td>0.0208</td><td>0.0186</td><td>0.0131</td><td>0.0211</td><td>0.061</td><td>0.0613</td><td>0.0612</td><td>0.0506</td><td>0.0989</td></tr><tr><th>13</th><td>0.0206</td><td>0.0132</td><td>0.0533</td><td>0.0569</td><td>0.0647</td><td>0.1432</td><td>0.1344</td><td>0.2041</td><td>0.1571</td></tr><tr><th>14</th><td>0.0091</td><td>0.0213</td><td>0.0206</td><td>0.0505</td><td>0.0657</td><td>0.0795</td><td>0.097</td><td>0.0872</td><td>0.0743</td></tr><tr><th>15</th><td>0.0181</td><td>0.0146</td><td>0.0026</td><td>0.0141</td><td>0.0421</td><td>0.0473</td><td>0.0361</td><td>0.0741</td><td>0.1398</td></tr><tr><th>16</th><td>0.0712</td><td>0.0901</td><td>0.1276</td><td>0.1497</td><td>0.1284</td><td>0.1165</td><td>0.1285</td><td>0.1684</td><td>0.183</td></tr><tr><th>17</th><td>0.0072</td><td>0.0027</td><td>0.0089</td><td>0.0061</td><td>0.042</td><td>0.0865</td><td>0.1182</td><td>0.0999</td><td>0.1976</td></tr><tr><th>18</th><td>0.043</td><td>0.0902</td><td>0.0833</td><td>0.0813</td><td>0.0165</td><td>0.0277</td><td>0.0569</td><td>0.2057</td><td>0.3887</td></tr><tr><th>19</th><td>0.0117</td><td>0.0069</td><td>0.0279</td><td>0.0583</td><td>0.0915</td><td>0.1267</td><td>0.1577</td><td>0.1927</td><td>0.2361</td></tr><tr><th>20</th><td>0.0211</td><td>0.0128</td><td>0.0015</td><td>0.045</td><td>0.0711</td><td>0.1563</td><td>0.1518</td><td>0.1206</td><td>0.1666</td></tr><tr><th>21</th><td>0.0269</td><td>0.0383</td><td>0.0505</td><td>0.0707</td><td>0.1313</td><td>0.2103</td><td>0.2263</td><td>0.2524</td><td>0.3595</td></tr><tr><th>22</th><td>0.0731</td><td>0.1249</td><td>0.1665</td><td>0.1496</td><td>0.1443</td><td>0.277</td><td>0.2555</td><td>0.1712</td><td>0.0466</td></tr><tr><th>23</th><td>0.0715</td><td>0.0849</td><td>0.0587</td><td>0.0218</td><td>0.0862</td><td>0.1801</td><td>0.1916</td><td>0.1896</td><td>0.296</td></tr><tr><th>24</th><td>0.0272</td><td>0.0378</td><td>0.0488</td><td>0.0848</td><td>0.1127</td><td>0.1103</td><td>0.1349</td><td>0.2337</td><td>0.3113</td></tr><tr><th>25</th><td>0.0346</td><td>0.0509</td><td>0.0079</td><td>0.0243</td><td>0.0432</td><td>0.0735</td><td>0.0938</td><td>0.1134</td><td>0.1228</td></tr><tr><th>26</th><td>0.026</td><td>0.0363</td><td>0.0136</td><td>0.0272</td><td>0.0214</td><td>0.0338</td><td>0.0655</td><td>0.14</td><td>0.1843</td></tr><tr><th>27</th><td>0.0134</td><td>0.0172</td><td>0.0178</td><td>0.0363</td><td>0.0444</td><td>0.0744</td><td>0.08</td><td>0.0456</td><td>0.0368</td></tr><tr><th>28</th><td>0.0209</td><td>0.0261</td><td>0.012</td><td>0.0768</td><td>0.1064</td><td>0.168</td><td>0.3016</td><td>0.346</td><td>0.3314</td></tr><tr><th>29</th><td>0.0201</td><td>0.0178</td><td>0.0274</td><td>0.0232</td><td>0.0724</td><td>0.0833</td><td>0.1232</td><td>0.1298</td><td>0.2085</td></tr><tr><th>30</th><td>0.0158</td><td>0.0239</td><td>0.015</td><td>0.0494</td><td>0.0988</td><td>0.1425</td><td>0.1463</td><td>0.1219</td><td>0.1697</td></tr><tr><th>&vellip;</th><td>&vellip;</td><td>&vellip;</td><td>&vellip;</td><td>&vellip;</td><td>&vellip;</td><td>&vellip;</td><td>&vellip;</td><td>&vellip;</td><td>&vellip;</td></tr></tbody></table></div>"
      ],
      "text/latex": [
       "\\begin{tabular}{r|cccccccccc}\n",
       "\t& a1 & a2 & a3 & a4 & a5 & a6 & a7 & a8 & a9 & \\\\\n",
       "\t\\hline\n",
       "\t& Float64 & Float64 & Float64 & Float64 & Float64 & Float64 & Float64 & Float64 & Float64 & \\\\\n",
       "\t\\hline\n",
       "\t1 & 0.0201 & 0.0026 & 0.0138 & 0.0062 & 0.0133 & 0.0151 & 0.0541 & 0.021 & 0.0505 & $\\dots$ \\\\\n",
       "\t2 & 0.019 & 0.0038 & 0.0642 & 0.0452 & 0.0333 & 0.069 & 0.0901 & 0.1454 & 0.074 & $\\dots$ \\\\\n",
       "\t3 & 0.027 & 0.0092 & 0.0145 & 0.0278 & 0.0412 & 0.0757 & 0.1026 & 0.1138 & 0.0794 & $\\dots$ \\\\\n",
       "\t4 & 0.0365 & 0.1632 & 0.1636 & 0.1421 & 0.113 & 0.1306 & 0.2112 & 0.2268 & 0.2992 & $\\dots$ \\\\\n",
       "\t5 & 0.0298 & 0.0615 & 0.065 & 0.0921 & 0.1615 & 0.2294 & 0.2176 & 0.2033 & 0.1459 & $\\dots$ \\\\\n",
       "\t6 & 0.0257 & 0.0447 & 0.0388 & 0.0239 & 0.1315 & 0.1323 & 0.1608 & 0.2145 & 0.0847 & $\\dots$ \\\\\n",
       "\t7 & 0.0099 & 0.0484 & 0.0299 & 0.0297 & 0.0652 & 0.1077 & 0.2363 & 0.2385 & 0.0075 & $\\dots$ \\\\\n",
       "\t8 & 0.0336 & 0.0294 & 0.0476 & 0.0539 & 0.0794 & 0.0804 & 0.1136 & 0.1228 & 0.1235 & $\\dots$ \\\\\n",
       "\t9 & 0.0274 & 0.0242 & 0.0621 & 0.056 & 0.1129 & 0.0973 & 0.1823 & 0.1745 & 0.144 & $\\dots$ \\\\\n",
       "\t10 & 0.0459 & 0.0437 & 0.0347 & 0.0456 & 0.0067 & 0.089 & 0.1798 & 0.1741 & 0.1598 & $\\dots$ \\\\\n",
       "\t11 & 0.0084 & 0.0153 & 0.0291 & 0.0432 & 0.0951 & 0.0752 & 0.0414 & 0.0259 & 0.0692 & $\\dots$ \\\\\n",
       "\t12 & 0.0208 & 0.0186 & 0.0131 & 0.0211 & 0.061 & 0.0613 & 0.0612 & 0.0506 & 0.0989 & $\\dots$ \\\\\n",
       "\t13 & 0.0206 & 0.0132 & 0.0533 & 0.0569 & 0.0647 & 0.1432 & 0.1344 & 0.2041 & 0.1571 & $\\dots$ \\\\\n",
       "\t14 & 0.0091 & 0.0213 & 0.0206 & 0.0505 & 0.0657 & 0.0795 & 0.097 & 0.0872 & 0.0743 & $\\dots$ \\\\\n",
       "\t15 & 0.0181 & 0.0146 & 0.0026 & 0.0141 & 0.0421 & 0.0473 & 0.0361 & 0.0741 & 0.1398 & $\\dots$ \\\\\n",
       "\t16 & 0.0712 & 0.0901 & 0.1276 & 0.1497 & 0.1284 & 0.1165 & 0.1285 & 0.1684 & 0.183 & $\\dots$ \\\\\n",
       "\t17 & 0.0072 & 0.0027 & 0.0089 & 0.0061 & 0.042 & 0.0865 & 0.1182 & 0.0999 & 0.1976 & $\\dots$ \\\\\n",
       "\t18 & 0.043 & 0.0902 & 0.0833 & 0.0813 & 0.0165 & 0.0277 & 0.0569 & 0.2057 & 0.3887 & $\\dots$ \\\\\n",
       "\t19 & 0.0117 & 0.0069 & 0.0279 & 0.0583 & 0.0915 & 0.1267 & 0.1577 & 0.1927 & 0.2361 & $\\dots$ \\\\\n",
       "\t20 & 0.0211 & 0.0128 & 0.0015 & 0.045 & 0.0711 & 0.1563 & 0.1518 & 0.1206 & 0.1666 & $\\dots$ \\\\\n",
       "\t21 & 0.0269 & 0.0383 & 0.0505 & 0.0707 & 0.1313 & 0.2103 & 0.2263 & 0.2524 & 0.3595 & $\\dots$ \\\\\n",
       "\t22 & 0.0731 & 0.1249 & 0.1665 & 0.1496 & 0.1443 & 0.277 & 0.2555 & 0.1712 & 0.0466 & $\\dots$ \\\\\n",
       "\t23 & 0.0715 & 0.0849 & 0.0587 & 0.0218 & 0.0862 & 0.1801 & 0.1916 & 0.1896 & 0.296 & $\\dots$ \\\\\n",
       "\t24 & 0.0272 & 0.0378 & 0.0488 & 0.0848 & 0.1127 & 0.1103 & 0.1349 & 0.2337 & 0.3113 & $\\dots$ \\\\\n",
       "\t25 & 0.0346 & 0.0509 & 0.0079 & 0.0243 & 0.0432 & 0.0735 & 0.0938 & 0.1134 & 0.1228 & $\\dots$ \\\\\n",
       "\t26 & 0.026 & 0.0363 & 0.0136 & 0.0272 & 0.0214 & 0.0338 & 0.0655 & 0.14 & 0.1843 & $\\dots$ \\\\\n",
       "\t27 & 0.0134 & 0.0172 & 0.0178 & 0.0363 & 0.0444 & 0.0744 & 0.08 & 0.0456 & 0.0368 & $\\dots$ \\\\\n",
       "\t28 & 0.0209 & 0.0261 & 0.012 & 0.0768 & 0.1064 & 0.168 & 0.3016 & 0.346 & 0.3314 & $\\dots$ \\\\\n",
       "\t29 & 0.0201 & 0.0178 & 0.0274 & 0.0232 & 0.0724 & 0.0833 & 0.1232 & 0.1298 & 0.2085 & $\\dots$ \\\\\n",
       "\t30 & 0.0158 & 0.0239 & 0.015 & 0.0494 & 0.0988 & 0.1425 & 0.1463 & 0.1219 & 0.1697 & $\\dots$ \\\\\n",
       "\t$\\dots$ & $\\dots$ & $\\dots$ & $\\dots$ & $\\dots$ & $\\dots$ & $\\dots$ & $\\dots$ & $\\dots$ & $\\dots$ &  \\\\\n",
       "\\end{tabular}\n"
      ],
      "text/plain": [
       "\u001b[1m32×62 DataFrame\u001b[0m\n",
       "\u001b[1m Row \u001b[0m│\u001b[1m a1      \u001b[0m\u001b[1m a2      \u001b[0m\u001b[1m a3      \u001b[0m\u001b[1m a4      \u001b[0m\u001b[1m a5      \u001b[0m\u001b[1m a6      \u001b[0m\u001b[1m a7      \u001b[0m\u001b[1m a8      \u001b[0m\u001b[1m\u001b[0m ⋯\n",
       "\u001b[1m     \u001b[0m│\u001b[90m Float64 \u001b[0m\u001b[90m Float64 \u001b[0m\u001b[90m Float64 \u001b[0m\u001b[90m Float64 \u001b[0m\u001b[90m Float64 \u001b[0m\u001b[90m Float64 \u001b[0m\u001b[90m Float64 \u001b[0m\u001b[90m Float64 \u001b[0m\u001b[90m\u001b[0m ⋯\n",
       "─────┼──────────────────────────────────────────────────────────────────────────\n",
       "   1 │  0.0201   0.0026   0.0138   0.0062   0.0133   0.0151   0.0541   0.021   ⋯\n",
       "   2 │  0.019    0.0038   0.0642   0.0452   0.0333   0.069    0.0901   0.1454\n",
       "   3 │  0.027    0.0092   0.0145   0.0278   0.0412   0.0757   0.1026   0.1138\n",
       "   4 │  0.0365   0.1632   0.1636   0.1421   0.113    0.1306   0.2112   0.2268\n",
       "   5 │  0.0298   0.0615   0.065    0.0921   0.1615   0.2294   0.2176   0.2033  ⋯\n",
       "   6 │  0.0257   0.0447   0.0388   0.0239   0.1315   0.1323   0.1608   0.2145\n",
       "   7 │  0.0099   0.0484   0.0299   0.0297   0.0652   0.1077   0.2363   0.2385\n",
       "   8 │  0.0336   0.0294   0.0476   0.0539   0.0794   0.0804   0.1136   0.1228\n",
       "   9 │  0.0274   0.0242   0.0621   0.056    0.1129   0.0973   0.1823   0.1745  ⋯\n",
       "  10 │  0.0459   0.0437   0.0347   0.0456   0.0067   0.089    0.1798   0.1741\n",
       "  11 │  0.0084   0.0153   0.0291   0.0432   0.0951   0.0752   0.0414   0.0259\n",
       "  ⋮  │    ⋮        ⋮        ⋮        ⋮        ⋮        ⋮        ⋮        ⋮     ⋱\n",
       "  23 │  0.0715   0.0849   0.0587   0.0218   0.0862   0.1801   0.1916   0.1896\n",
       "  24 │  0.0272   0.0378   0.0488   0.0848   0.1127   0.1103   0.1349   0.2337  ⋯\n",
       "  25 │  0.0346   0.0509   0.0079   0.0243   0.0432   0.0735   0.0938   0.1134\n",
       "  26 │  0.026    0.0363   0.0136   0.0272   0.0214   0.0338   0.0655   0.14\n",
       "  27 │  0.0134   0.0172   0.0178   0.0363   0.0444   0.0744   0.08     0.0456\n",
       "  28 │  0.0209   0.0261   0.012    0.0768   0.1064   0.168    0.3016   0.346   ⋯\n",
       "  29 │  0.0201   0.0178   0.0274   0.0232   0.0724   0.0833   0.1232   0.1298\n",
       "  30 │  0.0158   0.0239   0.015    0.0494   0.0988   0.1425   0.1463   0.1219\n",
       "  31 │  0.0114   0.0222   0.0269   0.0384   0.1217   0.2062   0.1489   0.0929\n",
       "  32 │  0.0394   0.042    0.0446   0.0551   0.0597   0.1416   0.0956   0.0802  ⋯\n",
       "\u001b[36m                                                  54 columns and 11 rows omitted\u001b[0m"
      ]
     },
     "execution_count": 83,
     "metadata": {},
     "output_type": "execute_result"
    }
   ],
   "source": [
    "radar_train=vcat(R_train,M_train)\n",
    "radar_test=vcat(R_test,M_test)"
   ]
  },
  {
   "cell_type": "markdown",
   "id": "94aced07",
   "metadata": {},
   "source": [
    "## 2. Choose a performance function suitable for the problem.\n",
    "\n",
    "I think its neccesary take a performance function that would be decreasing in the false negatives $(FN)$ predictions, since assume there is a rock where is a mine its very dangerous. So for the false negatives $(FN)$, false positives $(FP)$, true positives $(TP)$ and true negatives $(TN)$ there are Precision function $f_p(\\cdot)$,  Recall function $f_r(\\cdot)$ and Accuracy function $f_a(\\cdot)$.\n",
    "\n",
    "$$f_p(TP,FP)=\\frac{TP}{TP+FP}$$\n",
    "$$f_r(TP,FN)=\\frac{TP}{TP+FN}$$\n",
    "$$f_a(TP,TN,FP,FN)=\\frac{TP+TN}{TP+TN+FP+FN}$$\n",
    "\n",
    "So I choose the Recall function as first criteria and the Accuracy function in tie case."
   ]
  },
  {
   "cell_type": "markdown",
   "id": "794d3022",
   "metadata": {},
   "source": [
    "## 3. Adjust the following algorithms to the data using the default parameters.\n",
    "### 3.a. SVM \n",
    "For the two SVM models was used the LIBSVM library\n",
    "\n",
    "First are applied two models of support vector machine (SVM), in the first one ($SVM1$) none Kernel function is aplied."
   ]
  },
  {
   "cell_type": "code",
   "execution_count": 263,
   "id": "c8279a3d",
   "metadata": {},
   "outputs": [
    {
     "data": {
      "text/plain": [
       "32-element Vector{Int64}:\n",
       " 1\n",
       " 1\n",
       " 0\n",
       " 1\n",
       " 0\n",
       " 1\n",
       " 0\n",
       " 1\n",
       " 1\n",
       " 1\n",
       " 1\n",
       " 1\n",
       " 1\n",
       " ⋮\n",
       " 1\n",
       " 1\n",
       " 1\n",
       " 1\n",
       " 1\n",
       " 1\n",
       " 1\n",
       " 1\n",
       " 1\n",
       " 1\n",
       " 1\n",
       " 1"
      ]
     },
     "execution_count": 263,
     "metadata": {},
     "output_type": "execute_result"
    }
   ],
   "source": [
    "using LIBSVM\n",
    "using RDatasets\n",
    "using Printf\n",
    "using Statistics\n",
    "using ROCAnalysis\n",
    "using MLBase\n",
    "Xtest = Matrix(radar_test[:, 1:60])'\n",
    "Xtrain = Matrix(radar_train[:, 1:60])'\n",
    "ytrain=radar_train.b\n",
    "ytest=radar_test.b\n",
    "model = svmtrain(Xtrain, ytrain)\n",
    "ŷ, decision_values = svmpredict(model, Xtest);\n",
    "predy1_SVM=[if x==\"R\" 0 else 1 end for x in ŷ]"
   ]
  },
  {
   "cell_type": "markdown",
   "id": "e458e534",
   "metadata": {},
   "source": [
    "after this it's calculated the accuracy ($68,75\\%$), recall ($100\\%$) and precision ($62,96\\%$)"
   ]
  },
  {
   "cell_type": "code",
   "execution_count": 265,
   "id": "679a5624",
   "metadata": {},
   "outputs": [
    {
     "data": {
      "text/plain": [
       "1×3 Matrix{Float64}:\n",
       " 62.963  100.0  68.75"
      ]
     },
     "execution_count": 265,
     "metadata": {},
     "output_type": "execute_result"
    }
   ],
   "source": [
    "confusion_matrix_SVM1 = MLBase.roc(vec(Int.(b_test)), \n",
    "                              predy1_SVM)\n",
    "SVM1_precision = confusion_matrix_SVM1.tp/(confusion_matrix_SVM1.tp+confusion_matrix_SVM1.fp)*100;\n",
    "SVM1_recall = confusion_matrix_SVM1.tp/(confusion_matrix_SVM1.tp+confusion_matrix_SVM1.fn)*100;\n",
    "SVM1_accuracy = (confusion_matrix_SVM1.tp+confusion_matrix_SVM1.tn)/(confusion_matrix_SVM1.tp+confusion_matrix_SVM1.fp+confusion_matrix_SVM1.tn+confusion_matrix_SVM1.fn)*100\n",
    "[SVM1_precision SVM1_recall SVM1_accuracy]"
   ]
  },
  {
   "cell_type": "markdown",
   "id": "fb2acda3",
   "metadata": {},
   "source": [
    "For the model ($SVM2$) were tried, polynomial kernel of 2 a 3 grade and lineal kernel, was chossen the lineas since it is the one with best performance for the test data"
   ]
  },
  {
   "cell_type": "code",
   "execution_count": 249,
   "id": "a6fab760",
   "metadata": {
    "scrolled": true
   },
   "outputs": [
    {
     "data": {
      "text/plain": [
       "32-element Vector{Int64}:\n",
       " 0\n",
       " 0\n",
       " 0\n",
       " 0\n",
       " 0\n",
       " 1\n",
       " 1\n",
       " 0\n",
       " 0\n",
       " 1\n",
       " 0\n",
       " 0\n",
       " 0\n",
       " ⋮\n",
       " 1\n",
       " 1\n",
       " 1\n",
       " 1\n",
       " 1\n",
       " 1\n",
       " 1\n",
       " 1\n",
       " 1\n",
       " 1\n",
       " 1\n",
       " 1"
      ]
     },
     "execution_count": 249,
     "metadata": {},
     "output_type": "execute_result"
    }
   ],
   "source": [
    "model2 = svmtrain(Xtrain, ytrain, kernel=LIBSVM.Kernel.Linear)\n",
    "ŷ2, decision_values = svmpredict(model2, Xtest);\n",
    "predy2_SVM=[if x==\"R\" 0 else 1 end for x in ŷ2]"
   ]
  },
  {
   "cell_type": "code",
   "execution_count": 266,
   "id": "f537c675",
   "metadata": {},
   "outputs": [
    {
     "data": {
      "text/plain": [
       "1×3 Matrix{Float64}:\n",
       " 83.3333  88.2353  84.375"
      ]
     },
     "execution_count": 266,
     "metadata": {},
     "output_type": "execute_result"
    }
   ],
   "source": [
    "confusion_matrix_SVM2 = MLBase.roc(vec(Int.(b_test)), \n",
    "                              predy2_SVM)\n",
    "SVM2_precision = confusion_matrix_SVM2.tp/(confusion_matrix_SVM2.tp+confusion_matrix_SVM2.fp)*100;\n",
    "SVM2_recall = confusion_matrix_SVM2.tp/(confusion_matrix_SVM2.tp+confusion_matrix_SVM2.fn)*100;\n",
    "SVM2_accuracy = (confusion_matrix_SVM2.tp+confusion_matrix_SVM2.tn)/(confusion_matrix_SVM2.tp+confusion_matrix_SVM2.fp+confusion_matrix_SVM2.tn+confusion_matrix_SVM2.fn)*100\n",
    "[SVM2_precision SVM2_recall SVM2_accuracy]"
   ]
  },
  {
   "cell_type": "markdown",
   "id": "7602d2ab",
   "metadata": {},
   "source": [
    "### 3.b. Least squares\n",
    "Now the labels $R$ and $M$ from the data are changed for $0$ and $1$ respectively, with this is calculated a least squares model in this the valors estimated by the model up from $0,5$  were assigned a value of $1$, that is, labeled as $M$, in the same way, the valors down from $0,5$ were assigned with $0$"
   ]
  },
  {
   "cell_type": "code",
   "execution_count": 287,
   "id": "a7eb48be",
   "metadata": {
    "scrolled": true
   },
   "outputs": [
    {
     "data": {
      "image/svg+xml": [
       "<?xml version=\"1.0\" encoding=\"utf-8\"?>\n",
       "<svg xmlns=\"http://www.w3.org/2000/svg\" xmlns:xlink=\"http://www.w3.org/1999/xlink\" width=\"600\" height=\"400\" viewBox=\"0 0 2400 1600\">\n",
       "<defs>\n",
       "  <clipPath id=\"clip300\">\n",
       "    <rect x=\"0\" y=\"0\" width=\"2400\" height=\"1600\"/>\n",
       "  </clipPath>\n",
       "</defs>\n",
       "<path clip-path=\"url(#clip300)\" d=\"\n",
       "M0 1600 L2400 1600 L2400 0 L0 0  Z\n",
       "  \" fill=\"#ffffff\" fill-rule=\"evenodd\" fill-opacity=\"1\"/>\n",
       "<defs>\n",
       "  <clipPath id=\"clip301\">\n",
       "    <rect x=\"480\" y=\"0\" width=\"1681\" height=\"1600\"/>\n",
       "  </clipPath>\n",
       "</defs>\n",
       "<path clip-path=\"url(#clip300)\" d=\"\n",
       "M156.112 1486.45 L2352.76 1486.45 L2352.76 47.2441 L156.112 47.2441  Z\n",
       "  \" fill=\"#ffffff\" fill-rule=\"evenodd\" fill-opacity=\"1\"/>\n",
       "<defs>\n",
       "  <clipPath id=\"clip302\">\n",
       "    <rect x=\"156\" y=\"47\" width=\"2198\" height=\"1440\"/>\n",
       "  </clipPath>\n",
       "</defs>\n",
       "<polyline clip-path=\"url(#clip302)\" style=\"stroke:#000000; stroke-linecap:butt; stroke-linejoin:round; stroke-width:2; stroke-opacity:0.1; fill:none\" points=\"\n",
       "  206.44,1486.45 206.44,47.2441 \n",
       "  \"/>\n",
       "<polyline clip-path=\"url(#clip302)\" style=\"stroke:#000000; stroke-linecap:butt; stroke-linejoin:round; stroke-width:2; stroke-opacity:0.1; fill:none\" points=\"\n",
       "  798.527,1486.45 798.527,47.2441 \n",
       "  \"/>\n",
       "<polyline clip-path=\"url(#clip302)\" style=\"stroke:#000000; stroke-linecap:butt; stroke-linejoin:round; stroke-width:2; stroke-opacity:0.1; fill:none\" points=\"\n",
       "  1390.61,1486.45 1390.61,47.2441 \n",
       "  \"/>\n",
       "<polyline clip-path=\"url(#clip302)\" style=\"stroke:#000000; stroke-linecap:butt; stroke-linejoin:round; stroke-width:2; stroke-opacity:0.1; fill:none\" points=\"\n",
       "  1982.7,1486.45 1982.7,47.2441 \n",
       "  \"/>\n",
       "<polyline clip-path=\"url(#clip300)\" style=\"stroke:#000000; stroke-linecap:butt; stroke-linejoin:round; stroke-width:4; stroke-opacity:1; fill:none\" points=\"\n",
       "  156.112,1486.45 2352.76,1486.45 \n",
       "  \"/>\n",
       "<polyline clip-path=\"url(#clip300)\" style=\"stroke:#000000; stroke-linecap:butt; stroke-linejoin:round; stroke-width:4; stroke-opacity:1; fill:none\" points=\"\n",
       "  206.44,1486.45 206.44,1467.55 \n",
       "  \"/>\n",
       "<polyline clip-path=\"url(#clip300)\" style=\"stroke:#000000; stroke-linecap:butt; stroke-linejoin:round; stroke-width:4; stroke-opacity:1; fill:none\" points=\"\n",
       "  798.527,1486.45 798.527,1467.55 \n",
       "  \"/>\n",
       "<polyline clip-path=\"url(#clip300)\" style=\"stroke:#000000; stroke-linecap:butt; stroke-linejoin:round; stroke-width:4; stroke-opacity:1; fill:none\" points=\"\n",
       "  1390.61,1486.45 1390.61,1467.55 \n",
       "  \"/>\n",
       "<polyline clip-path=\"url(#clip300)\" style=\"stroke:#000000; stroke-linecap:butt; stroke-linejoin:round; stroke-width:4; stroke-opacity:1; fill:none\" points=\"\n",
       "  1982.7,1486.45 1982.7,1467.55 \n",
       "  \"/>\n",
       "<path clip-path=\"url(#clip300)\" d=\"M206.44 1517.37 Q202.828 1517.37 201 1520.93 Q199.194 1524.47 199.194 1531.6 Q199.194 1538.71 201 1542.27 Q202.828 1545.82 206.44 1545.82 Q210.074 1545.82 211.879 1542.27 Q213.708 1538.71 213.708 1531.6 Q213.708 1524.47 211.879 1520.93 Q210.074 1517.37 206.44 1517.37 M206.44 1513.66 Q212.25 1513.66 215.305 1518.27 Q218.384 1522.85 218.384 1531.6 Q218.384 1540.33 215.305 1544.94 Q212.25 1549.52 206.44 1549.52 Q200.629 1549.52 197.551 1544.94 Q194.495 1540.33 194.495 1531.6 Q194.495 1522.85 197.551 1518.27 Q200.629 1513.66 206.44 1513.66 Z\" fill=\"#000000\" fill-rule=\"evenodd\" fill-opacity=\"1\" /><path clip-path=\"url(#clip300)\" d=\"M773.226 1514.29 L791.582 1514.29 L791.582 1518.22 L777.508 1518.22 L777.508 1526.7 Q778.527 1526.35 779.545 1526.19 Q780.564 1526 781.582 1526 Q787.369 1526 790.749 1529.17 Q794.129 1532.34 794.129 1537.76 Q794.129 1543.34 790.656 1546.44 Q787.184 1549.52 780.865 1549.52 Q778.689 1549.52 776.42 1549.15 Q774.175 1548.78 771.768 1548.04 L771.768 1543.34 Q773.851 1544.47 776.073 1545.03 Q778.295 1545.58 780.772 1545.58 Q784.777 1545.58 787.115 1543.48 Q789.453 1541.37 789.453 1537.76 Q789.453 1534.15 787.115 1532.04 Q784.777 1529.94 780.772 1529.94 Q778.897 1529.94 777.022 1530.35 Q775.17 1530.77 773.226 1531.65 L773.226 1514.29 Z\" fill=\"#000000\" fill-rule=\"evenodd\" fill-opacity=\"1\" /><path clip-path=\"url(#clip300)\" d=\"M813.342 1517.37 Q809.73 1517.37 807.902 1520.93 Q806.096 1524.47 806.096 1531.6 Q806.096 1538.71 807.902 1542.27 Q809.73 1545.82 813.342 1545.82 Q816.976 1545.82 818.781 1542.27 Q820.61 1538.71 820.61 1531.6 Q820.61 1524.47 818.781 1520.93 Q816.976 1517.37 813.342 1517.37 M813.342 1513.66 Q819.152 1513.66 822.207 1518.27 Q825.286 1522.85 825.286 1531.6 Q825.286 1540.33 822.207 1544.94 Q819.152 1549.52 813.342 1549.52 Q807.531 1549.52 804.453 1544.94 Q801.397 1540.33 801.397 1531.6 Q801.397 1522.85 804.453 1518.27 Q807.531 1513.66 813.342 1513.66 Z\" fill=\"#000000\" fill-rule=\"evenodd\" fill-opacity=\"1\" /><path clip-path=\"url(#clip300)\" d=\"M1350.22 1544.91 L1357.86 1544.91 L1357.86 1518.55 L1349.55 1520.21 L1349.55 1515.95 L1357.81 1514.29 L1362.49 1514.29 L1362.49 1544.91 L1370.13 1544.91 L1370.13 1548.85 L1350.22 1548.85 L1350.22 1544.91 Z\" fill=\"#000000\" fill-rule=\"evenodd\" fill-opacity=\"1\" /><path clip-path=\"url(#clip300)\" d=\"M1389.57 1517.37 Q1385.96 1517.37 1384.13 1520.93 Q1382.33 1524.47 1382.33 1531.6 Q1382.33 1538.71 1384.13 1542.27 Q1385.96 1545.82 1389.57 1545.82 Q1393.21 1545.82 1395.01 1542.27 Q1396.84 1538.71 1396.84 1531.6 Q1396.84 1524.47 1395.01 1520.93 Q1393.21 1517.37 1389.57 1517.37 M1389.57 1513.66 Q1395.38 1513.66 1398.44 1518.27 Q1401.52 1522.85 1401.52 1531.6 Q1401.52 1540.33 1398.44 1544.94 Q1395.38 1549.52 1389.57 1549.52 Q1383.76 1549.52 1380.68 1544.94 Q1377.63 1540.33 1377.63 1531.6 Q1377.63 1522.85 1380.68 1518.27 Q1383.76 1513.66 1389.57 1513.66 Z\" fill=\"#000000\" fill-rule=\"evenodd\" fill-opacity=\"1\" /><path clip-path=\"url(#clip300)\" d=\"M1419.73 1517.37 Q1416.12 1517.37 1414.29 1520.93 Q1412.49 1524.47 1412.49 1531.6 Q1412.49 1538.71 1414.29 1542.27 Q1416.12 1545.82 1419.73 1545.82 Q1423.37 1545.82 1425.17 1542.27 Q1427 1538.71 1427 1531.6 Q1427 1524.47 1425.17 1520.93 Q1423.37 1517.37 1419.73 1517.37 M1419.73 1513.66 Q1425.54 1513.66 1428.6 1518.27 Q1431.68 1522.85 1431.68 1531.6 Q1431.68 1540.33 1428.6 1544.94 Q1425.54 1549.52 1419.73 1549.52 Q1413.92 1549.52 1410.85 1544.94 Q1407.79 1540.33 1407.79 1531.6 Q1407.79 1522.85 1410.85 1518.27 Q1413.92 1513.66 1419.73 1513.66 Z\" fill=\"#000000\" fill-rule=\"evenodd\" fill-opacity=\"1\" /><path clip-path=\"url(#clip300)\" d=\"M1942.31 1544.91 L1949.95 1544.91 L1949.95 1518.55 L1941.64 1520.21 L1941.64 1515.95 L1949.9 1514.29 L1954.58 1514.29 L1954.58 1544.91 L1962.22 1544.91 L1962.22 1548.85 L1942.31 1548.85 L1942.31 1544.91 Z\" fill=\"#000000\" fill-rule=\"evenodd\" fill-opacity=\"1\" /><path clip-path=\"url(#clip300)\" d=\"M1971.71 1514.29 L1990.06 1514.29 L1990.06 1518.22 L1975.99 1518.22 L1975.99 1526.7 Q1977.01 1526.35 1978.03 1526.19 Q1979.04 1526 1980.06 1526 Q1985.85 1526 1989.23 1529.17 Q1992.61 1532.34 1992.61 1537.76 Q1992.61 1543.34 1989.14 1546.44 Q1985.66 1549.52 1979.34 1549.52 Q1977.17 1549.52 1974.9 1549.15 Q1972.66 1548.78 1970.25 1548.04 L1970.25 1543.34 Q1972.33 1544.47 1974.55 1545.03 Q1976.78 1545.58 1979.25 1545.58 Q1983.26 1545.58 1985.59 1543.48 Q1987.93 1541.37 1987.93 1537.76 Q1987.93 1534.15 1985.59 1532.04 Q1983.26 1529.94 1979.25 1529.94 Q1977.38 1529.94 1975.5 1530.35 Q1973.65 1530.77 1971.71 1531.65 L1971.71 1514.29 Z\" fill=\"#000000\" fill-rule=\"evenodd\" fill-opacity=\"1\" /><path clip-path=\"url(#clip300)\" d=\"M2011.82 1517.37 Q2008.21 1517.37 2006.38 1520.93 Q2004.58 1524.47 2004.58 1531.6 Q2004.58 1538.71 2006.38 1542.27 Q2008.21 1545.82 2011.82 1545.82 Q2015.46 1545.82 2017.26 1542.27 Q2019.09 1538.71 2019.09 1531.6 Q2019.09 1524.47 2017.26 1520.93 Q2015.46 1517.37 2011.82 1517.37 M2011.82 1513.66 Q2017.63 1513.66 2020.69 1518.27 Q2023.77 1522.85 2023.77 1531.6 Q2023.77 1540.33 2020.69 1544.94 Q2017.63 1549.52 2011.82 1549.52 Q2006.01 1549.52 2002.93 1544.94 Q1999.88 1540.33 1999.88 1531.6 Q1999.88 1522.85 2002.93 1518.27 Q2006.01 1513.66 2011.82 1513.66 Z\" fill=\"#000000\" fill-rule=\"evenodd\" fill-opacity=\"1\" /><polyline clip-path=\"url(#clip302)\" style=\"stroke:#000000; stroke-linecap:butt; stroke-linejoin:round; stroke-width:2; stroke-opacity:0.1; fill:none\" points=\"\n",
       "  156.112,1177.78 2352.76,1177.78 \n",
       "  \"/>\n",
       "<polyline clip-path=\"url(#clip302)\" style=\"stroke:#000000; stroke-linecap:butt; stroke-linejoin:round; stroke-width:2; stroke-opacity:0.1; fill:none\" points=\"\n",
       "  156.112,846.916 2352.76,846.916 \n",
       "  \"/>\n",
       "<polyline clip-path=\"url(#clip302)\" style=\"stroke:#000000; stroke-linecap:butt; stroke-linejoin:round; stroke-width:2; stroke-opacity:0.1; fill:none\" points=\"\n",
       "  156.112,516.055 2352.76,516.055 \n",
       "  \"/>\n",
       "<polyline clip-path=\"url(#clip302)\" style=\"stroke:#000000; stroke-linecap:butt; stroke-linejoin:round; stroke-width:2; stroke-opacity:0.1; fill:none\" points=\"\n",
       "  156.112,185.195 2352.76,185.195 \n",
       "  \"/>\n",
       "<polyline clip-path=\"url(#clip300)\" style=\"stroke:#000000; stroke-linecap:butt; stroke-linejoin:round; stroke-width:4; stroke-opacity:1; fill:none\" points=\"\n",
       "  156.112,1486.45 156.112,47.2441 \n",
       "  \"/>\n",
       "<polyline clip-path=\"url(#clip300)\" style=\"stroke:#000000; stroke-linecap:butt; stroke-linejoin:round; stroke-width:4; stroke-opacity:1; fill:none\" points=\"\n",
       "  156.112,1177.78 175.01,1177.78 \n",
       "  \"/>\n",
       "<polyline clip-path=\"url(#clip300)\" style=\"stroke:#000000; stroke-linecap:butt; stroke-linejoin:round; stroke-width:4; stroke-opacity:1; fill:none\" points=\"\n",
       "  156.112,846.916 175.01,846.916 \n",
       "  \"/>\n",
       "<polyline clip-path=\"url(#clip300)\" style=\"stroke:#000000; stroke-linecap:butt; stroke-linejoin:round; stroke-width:4; stroke-opacity:1; fill:none\" points=\"\n",
       "  156.112,516.055 175.01,516.055 \n",
       "  \"/>\n",
       "<polyline clip-path=\"url(#clip300)\" style=\"stroke:#000000; stroke-linecap:butt; stroke-linejoin:round; stroke-width:4; stroke-opacity:1; fill:none\" points=\"\n",
       "  156.112,185.195 175.01,185.195 \n",
       "  \"/>\n",
       "<path clip-path=\"url(#clip300)\" d=\"M62.9365 1163.57 Q59.3254 1163.57 57.4967 1167.14 Q55.6912 1170.68 55.6912 1177.81 Q55.6912 1184.92 57.4967 1188.48 Q59.3254 1192.02 62.9365 1192.02 Q66.5707 1192.02 68.3763 1188.48 Q70.205 1184.92 70.205 1177.81 Q70.205 1170.68 68.3763 1167.14 Q66.5707 1163.57 62.9365 1163.57 M62.9365 1159.87 Q68.7467 1159.87 71.8022 1164.48 Q74.8809 1169.06 74.8809 1177.81 Q74.8809 1186.54 71.8022 1191.14 Q68.7467 1195.73 62.9365 1195.73 Q57.1264 1195.73 54.0477 1191.14 Q50.9921 1186.54 50.9921 1177.81 Q50.9921 1169.06 54.0477 1164.48 Q57.1264 1159.87 62.9365 1159.87 Z\" fill=\"#000000\" fill-rule=\"evenodd\" fill-opacity=\"1\" /><path clip-path=\"url(#clip300)\" d=\"M83.0984 1189.18 L87.9827 1189.18 L87.9827 1195.06 L83.0984 1195.06 L83.0984 1189.18 Z\" fill=\"#000000\" fill-rule=\"evenodd\" fill-opacity=\"1\" /><path clip-path=\"url(#clip300)\" d=\"M108.168 1163.57 Q104.557 1163.57 102.728 1167.14 Q100.922 1170.68 100.922 1177.81 Q100.922 1184.92 102.728 1188.48 Q104.557 1192.02 108.168 1192.02 Q111.802 1192.02 113.608 1188.48 Q115.436 1184.92 115.436 1177.81 Q115.436 1170.68 113.608 1167.14 Q111.802 1163.57 108.168 1163.57 M108.168 1159.87 Q113.978 1159.87 117.033 1164.48 Q120.112 1169.06 120.112 1177.81 Q120.112 1186.54 117.033 1191.14 Q113.978 1195.73 108.168 1195.73 Q102.358 1195.73 99.2789 1191.14 Q96.2234 1186.54 96.2234 1177.81 Q96.2234 1169.06 99.2789 1164.48 Q102.358 1159.87 108.168 1159.87 Z\" fill=\"#000000\" fill-rule=\"evenodd\" fill-opacity=\"1\" /><path clip-path=\"url(#clip300)\" d=\"M63.9319 832.714 Q60.3208 832.714 58.4921 836.279 Q56.6865 839.821 56.6865 846.95 Q56.6865 854.057 58.4921 857.622 Q60.3208 861.163 63.9319 861.163 Q67.5661 861.163 69.3717 857.622 Q71.2004 854.057 71.2004 846.95 Q71.2004 839.821 69.3717 836.279 Q67.5661 832.714 63.9319 832.714 M63.9319 829.011 Q69.742 829.011 72.7976 833.617 Q75.8763 838.2 75.8763 846.95 Q75.8763 855.677 72.7976 860.284 Q69.742 864.867 63.9319 864.867 Q58.1217 864.867 55.043 860.284 Q51.9875 855.677 51.9875 846.95 Q51.9875 838.2 55.043 833.617 Q58.1217 829.011 63.9319 829.011 Z\" fill=\"#000000\" fill-rule=\"evenodd\" fill-opacity=\"1\" /><path clip-path=\"url(#clip300)\" d=\"M84.0938 858.316 L88.978 858.316 L88.978 864.196 L84.0938 864.196 L84.0938 858.316 Z\" fill=\"#000000\" fill-rule=\"evenodd\" fill-opacity=\"1\" /><path clip-path=\"url(#clip300)\" d=\"M99.2095 829.636 L117.566 829.636 L117.566 833.571 L103.492 833.571 L103.492 842.043 Q104.51 841.696 105.529 841.534 Q106.547 841.349 107.566 841.349 Q113.353 841.349 116.733 844.52 Q120.112 847.691 120.112 853.108 Q120.112 858.686 116.64 861.788 Q113.168 864.867 106.848 864.867 Q104.672 864.867 102.404 864.497 Q100.159 864.126 97.7511 863.385 L97.7511 858.686 Q99.8345 859.821 102.057 860.376 Q104.279 860.932 106.756 860.932 Q110.76 860.932 113.098 858.825 Q115.436 856.719 115.436 853.108 Q115.436 849.497 113.098 847.39 Q110.76 845.284 106.756 845.284 Q104.881 845.284 103.006 845.7 Q101.154 846.117 99.2095 846.997 L99.2095 829.636 Z\" fill=\"#000000\" fill-rule=\"evenodd\" fill-opacity=\"1\" /><path clip-path=\"url(#clip300)\" d=\"M53.7467 529.4 L61.3856 529.4 L61.3856 503.034 L53.0754 504.701 L53.0754 500.442 L61.3393 498.775 L66.0152 498.775 L66.0152 529.4 L73.654 529.4 L73.654 533.335 L53.7467 533.335 L53.7467 529.4 Z\" fill=\"#000000\" fill-rule=\"evenodd\" fill-opacity=\"1\" /><path clip-path=\"url(#clip300)\" d=\"M83.0984 527.456 L87.9827 527.456 L87.9827 533.335 L83.0984 533.335 L83.0984 527.456 Z\" fill=\"#000000\" fill-rule=\"evenodd\" fill-opacity=\"1\" /><path clip-path=\"url(#clip300)\" d=\"M108.168 501.854 Q104.557 501.854 102.728 505.419 Q100.922 508.96 100.922 516.09 Q100.922 523.196 102.728 526.761 Q104.557 530.303 108.168 530.303 Q111.802 530.303 113.608 526.761 Q115.436 523.196 115.436 516.09 Q115.436 508.96 113.608 505.419 Q111.802 501.854 108.168 501.854 M108.168 498.15 Q113.978 498.15 117.033 502.757 Q120.112 507.34 120.112 516.09 Q120.112 524.817 117.033 529.423 Q113.978 534.006 108.168 534.006 Q102.358 534.006 99.2789 529.423 Q96.2234 524.817 96.2234 516.09 Q96.2234 507.34 99.2789 502.757 Q102.358 498.15 108.168 498.15 Z\" fill=\"#000000\" fill-rule=\"evenodd\" fill-opacity=\"1\" /><path clip-path=\"url(#clip300)\" d=\"M54.7421 198.54 L62.381 198.54 L62.381 172.174 L54.0708 173.841 L54.0708 169.581 L62.3347 167.915 L67.0106 167.915 L67.0106 198.54 L74.6494 198.54 L74.6494 202.475 L54.7421 202.475 L54.7421 198.54 Z\" fill=\"#000000\" fill-rule=\"evenodd\" fill-opacity=\"1\" /><path clip-path=\"url(#clip300)\" d=\"M84.0938 196.595 L88.978 196.595 L88.978 202.475 L84.0938 202.475 L84.0938 196.595 Z\" fill=\"#000000\" fill-rule=\"evenodd\" fill-opacity=\"1\" /><path clip-path=\"url(#clip300)\" d=\"M99.2095 167.915 L117.566 167.915 L117.566 171.85 L103.492 171.85 L103.492 180.322 Q104.51 179.975 105.529 179.813 Q106.547 179.628 107.566 179.628 Q113.353 179.628 116.733 182.799 Q120.112 185.97 120.112 191.387 Q120.112 196.965 116.64 200.067 Q113.168 203.146 106.848 203.146 Q104.672 203.146 102.404 202.776 Q100.159 202.405 97.7511 201.665 L97.7511 196.965 Q99.8345 198.1 102.057 198.655 Q104.279 199.211 106.756 199.211 Q110.76 199.211 113.098 197.104 Q115.436 194.998 115.436 191.387 Q115.436 187.776 113.098 185.669 Q110.76 183.563 106.756 183.563 Q104.881 183.563 103.006 183.979 Q101.154 184.396 99.2095 185.276 L99.2095 167.915 Z\" fill=\"#000000\" fill-rule=\"evenodd\" fill-opacity=\"1\" /><polyline clip-path=\"url(#clip302)\" style=\"stroke:#009af9; stroke-linecap:butt; stroke-linejoin:round; stroke-width:4; stroke-opacity:1; fill:none\" points=\"\n",
       "  218.281,749.105 230.123,1354.47 241.965,1107.84 253.807,844.448 265.648,814.311 277.49,1013.3 289.332,952.948 301.174,924.262 313.015,1157.66 324.857,1147.99 \n",
       "  336.699,964.141 348.54,927.227 360.382,1156.76 372.224,1102.64 384.066,788.068 395.907,1162.87 407.749,1017.89 419.591,1118.32 431.433,994.381 443.274,1083.55 \n",
       "  455.116,1222.32 466.958,1236.96 478.8,1071.39 490.641,1002.47 502.483,1017.61 514.325,1205.89 526.167,1214.12 538.008,996.288 549.85,960.842 561.692,956.375 \n",
       "  573.534,1141.41 585.375,855.621 597.217,1057.11 609.059,834.834 620.901,1036.87 632.742,1082.61 644.584,1048.26 656.426,1003.11 668.268,1041.42 680.109,1066.15 \n",
       "  691.951,982.618 703.793,937.32 715.635,988.74 727.476,990.292 739.318,874.624 751.16,996.149 763.002,977.386 774.843,1237.7 786.685,1350.64 798.527,1041.29 \n",
       "  810.369,833.721 822.21,1281.15 834.052,942.457 845.894,1149.21 857.736,1122.44 869.577,963.274 881.419,1164.56 893.261,1025.15 905.103,966.915 916.944,1009.37 \n",
       "  928.786,1118.55 940.628,891.001 952.47,1091.59 964.311,1294.92 976.153,1165.01 987.995,1335.3 999.836,1101.57 1011.68,989.215 1023.52,746.142 1035.36,924.258 \n",
       "  1047.2,1120.44 1059.05,1405.74 1070.89,1222.91 1082.73,979.72 1094.57,893.487 1106.41,1032.76 1118.25,1054.87 1130.1,957.135 1141.94,1445.72 1153.78,1154.21 \n",
       "  1165.62,1212.26 1177.46,1281.55 1189.3,491.211 1201.15,833.494 1212.99,294.778 1224.83,813.426 1236.67,995.827 1248.51,306.304 1260.35,531.117 1272.2,575.194 \n",
       "  1284.04,696.197 1295.88,709.472 1307.72,665.623 1319.56,608.004 1331.41,724.762 1343.25,756.999 1355.09,705.252 1366.93,531.39 1378.77,748.95 1390.61,727.262 \n",
       "  1402.46,783.796 1414.3,608.705 1426.14,690.858 1437.98,910.665 1449.82,549.599 1461.66,508.779 1473.51,575.057 1485.35,584.223 1497.19,443.248 1509.03,678.608 \n",
       "  1520.87,847.536 1532.72,821.398 1544.56,594.91 1556.4,885.714 1568.24,768.58 1580.08,508.654 1591.92,606.707 1603.77,621.993 1615.61,747.152 1627.45,338.417 \n",
       "  1639.29,605.59 1651.13,601.297 1662.97,494.801 1674.82,765.567 1686.66,800.355 1698.5,575.608 1710.34,390.757 1722.18,727.498 1734.02,792.363 1745.87,704.854 \n",
       "  1757.71,564.486 1769.55,772.802 1781.39,544.735 1793.23,773.411 1805.08,675.21 1816.92,681.838 1828.76,87.9763 1840.6,617.733 1852.44,560.039 1864.28,542.445 \n",
       "  1876.13,717.238 1887.97,751.647 1899.81,757.476 1911.65,339.98 1923.49,243.765 1935.33,375.549 1947.18,740.662 1959.02,589.4 1970.86,474.277 1982.7,502.091 \n",
       "  1994.54,724.496 2006.38,410.76 2018.23,700.678 2030.07,782.646 2041.91,689.259 2053.75,622.289 2065.59,825.627 2077.44,596.458 2089.28,400.205 2101.12,431.576 \n",
       "  2112.96,758.092 2124.8,401.445 2136.64,444.503 2148.49,550.206 2160.33,632.531 2172.17,466.581 2184.01,816.023 2195.85,798.121 2207.69,544.517 2219.54,565.401 \n",
       "  2231.38,501.419 2243.22,796.474 2255.06,778.257 2266.9,745.631 2278.74,546.581 2290.59,308.565 \n",
       "  \"/>\n",
       "<polyline clip-path=\"url(#clip302)\" style=\"stroke:#e26f46; stroke-linecap:butt; stroke-linejoin:round; stroke-width:4; stroke-opacity:1; fill:none\" points=\"\n",
       "  218.281,1177.78 230.123,1177.78 241.965,1177.78 253.807,1177.78 265.648,1177.78 277.49,1177.78 289.332,1177.78 301.174,1177.78 313.015,1177.78 324.857,1177.78 \n",
       "  336.699,1177.78 348.54,1177.78 360.382,1177.78 372.224,1177.78 384.066,1177.78 395.907,1177.78 407.749,1177.78 419.591,1177.78 431.433,1177.78 443.274,1177.78 \n",
       "  455.116,1177.78 466.958,1177.78 478.8,1177.78 490.641,1177.78 502.483,1177.78 514.325,1177.78 526.167,1177.78 538.008,1177.78 549.85,1177.78 561.692,1177.78 \n",
       "  573.534,1177.78 585.375,1177.78 597.217,1177.78 609.059,1177.78 620.901,1177.78 632.742,1177.78 644.584,1177.78 656.426,1177.78 668.268,1177.78 680.109,1177.78 \n",
       "  691.951,1177.78 703.793,1177.78 715.635,1177.78 727.476,1177.78 739.318,1177.78 751.16,1177.78 763.002,1177.78 774.843,1177.78 786.685,1177.78 798.527,1177.78 \n",
       "  810.369,1177.78 822.21,1177.78 834.052,1177.78 845.894,1177.78 857.736,1177.78 869.577,1177.78 881.419,1177.78 893.261,1177.78 905.103,1177.78 916.944,1177.78 \n",
       "  928.786,1177.78 940.628,1177.78 952.47,1177.78 964.311,1177.78 976.153,1177.78 987.995,1177.78 999.836,1177.78 1011.68,1177.78 1023.52,1177.78 1035.36,1177.78 \n",
       "  1047.2,1177.78 1059.05,1177.78 1070.89,1177.78 1082.73,1177.78 1094.57,1177.78 1106.41,1177.78 1118.25,1177.78 1130.1,1177.78 1141.94,1177.78 1153.78,1177.78 \n",
       "  1165.62,1177.78 1177.46,1177.78 1189.3,516.055 1201.15,516.055 1212.99,516.055 1224.83,516.055 1236.67,516.055 1248.51,516.055 1260.35,516.055 1272.2,516.055 \n",
       "  1284.04,516.055 1295.88,516.055 1307.72,516.055 1319.56,516.055 1331.41,516.055 1343.25,516.055 1355.09,516.055 1366.93,516.055 1378.77,516.055 1390.61,516.055 \n",
       "  1402.46,516.055 1414.3,516.055 1426.14,516.055 1437.98,516.055 1449.82,516.055 1461.66,516.055 1473.51,516.055 1485.35,516.055 1497.19,516.055 1509.03,516.055 \n",
       "  1520.87,516.055 1532.72,516.055 1544.56,516.055 1556.4,516.055 1568.24,516.055 1580.08,516.055 1591.92,516.055 1603.77,516.055 1615.61,516.055 1627.45,516.055 \n",
       "  1639.29,516.055 1651.13,516.055 1662.97,516.055 1674.82,516.055 1686.66,516.055 1698.5,516.055 1710.34,516.055 1722.18,516.055 1734.02,516.055 1745.87,516.055 \n",
       "  1757.71,516.055 1769.55,516.055 1781.39,516.055 1793.23,516.055 1805.08,516.055 1816.92,516.055 1828.76,516.055 1840.6,516.055 1852.44,516.055 1864.28,516.055 \n",
       "  1876.13,516.055 1887.97,516.055 1899.81,516.055 1911.65,516.055 1923.49,516.055 1935.33,516.055 1947.18,516.055 1959.02,516.055 1970.86,516.055 1982.7,516.055 \n",
       "  1994.54,516.055 2006.38,516.055 2018.23,516.055 2030.07,516.055 2041.91,516.055 2053.75,516.055 2065.59,516.055 2077.44,516.055 2089.28,516.055 2101.12,516.055 \n",
       "  2112.96,516.055 2124.8,516.055 2136.64,516.055 2148.49,516.055 2160.33,516.055 2172.17,516.055 2184.01,516.055 2195.85,516.055 2207.69,516.055 2219.54,516.055 \n",
       "  2231.38,516.055 2243.22,516.055 2255.06,516.055 2266.9,516.055 2278.74,516.055 2290.59,516.055 \n",
       "  \"/>\n",
       "<path clip-path=\"url(#clip300)\" d=\"\n",
       "M1983.03 250.738 L2279.53 250.738 L2279.53 95.2176 L1983.03 95.2176  Z\n",
       "  \" fill=\"#ffffff\" fill-rule=\"evenodd\" fill-opacity=\"1\"/>\n",
       "<polyline clip-path=\"url(#clip300)\" style=\"stroke:#000000; stroke-linecap:butt; stroke-linejoin:round; stroke-width:4; stroke-opacity:1; fill:none\" points=\"\n",
       "  1983.03,250.738 2279.53,250.738 2279.53,95.2176 1983.03,95.2176 1983.03,250.738 \n",
       "  \"/>\n",
       "<polyline clip-path=\"url(#clip300)\" style=\"stroke:#009af9; stroke-linecap:butt; stroke-linejoin:round; stroke-width:4; stroke-opacity:1; fill:none\" points=\"\n",
       "  2007.44,147.058 2153.88,147.058 \n",
       "  \"/>\n",
       "<path clip-path=\"url(#clip300)\" d=\"M2192.13 166.745 Q2190.33 171.375 2188.61 172.787 Q2186.9 174.199 2184.03 174.199 L2180.63 174.199 L2180.63 170.634 L2183.13 170.634 Q2184.89 170.634 2185.86 169.8 Q2186.83 168.967 2188.01 165.865 L2188.78 163.921 L2178.29 138.412 L2182.8 138.412 L2190.91 158.689 L2199.01 138.412 L2203.52 138.412 L2192.13 166.745 Z\" fill=\"#000000\" fill-rule=\"evenodd\" fill-opacity=\"1\" /><path clip-path=\"url(#clip300)\" d=\"M2210.81 160.402 L2218.45 160.402 L2218.45 134.037 L2210.14 135.703 L2210.14 131.444 L2218.41 129.778 L2223.08 129.778 L2223.08 160.402 L2230.72 160.402 L2230.72 164.338 L2210.81 164.338 L2210.81 160.402 Z\" fill=\"#000000\" fill-rule=\"evenodd\" fill-opacity=\"1\" /><polyline clip-path=\"url(#clip300)\" style=\"stroke:#e26f46; stroke-linecap:butt; stroke-linejoin:round; stroke-width:4; stroke-opacity:1; fill:none\" points=\"\n",
       "  2007.44,198.898 2153.88,198.898 \n",
       "  \"/>\n",
       "<path clip-path=\"url(#clip300)\" d=\"M2192.13 218.585 Q2190.33 223.215 2188.61 224.627 Q2186.9 226.039 2184.03 226.039 L2180.63 226.039 L2180.63 222.474 L2183.13 222.474 Q2184.89 222.474 2185.86 221.64 Q2186.83 220.807 2188.01 217.705 L2188.78 215.761 L2178.29 190.252 L2182.8 190.252 L2190.91 210.529 L2199.01 190.252 L2203.52 190.252 L2192.13 218.585 Z\" fill=\"#000000\" fill-rule=\"evenodd\" fill-opacity=\"1\" /><path clip-path=\"url(#clip300)\" d=\"M2214.03 212.242 L2230.35 212.242 L2230.35 216.178 L2208.41 216.178 L2208.41 212.242 Q2211.07 209.488 2215.65 204.858 Q2220.26 200.205 2221.44 198.863 Q2223.68 196.34 2224.56 194.604 Q2225.47 192.844 2225.47 191.155 Q2225.47 188.4 2223.52 186.664 Q2221.6 184.928 2218.5 184.928 Q2216.3 184.928 2213.85 185.692 Q2211.41 186.455 2208.64 188.006 L2208.64 183.284 Q2211.46 182.15 2213.91 181.571 Q2216.37 180.993 2218.41 180.993 Q2223.78 180.993 2226.97 183.678 Q2230.16 186.363 2230.16 190.854 Q2230.16 192.983 2229.35 194.905 Q2228.57 196.803 2226.46 199.395 Q2225.88 200.067 2222.78 203.284 Q2219.68 206.479 2214.03 212.242 Z\" fill=\"#000000\" fill-rule=\"evenodd\" fill-opacity=\"1\" /></svg>\n"
      ]
     },
     "execution_count": 287,
     "metadata": {},
     "output_type": "execute_result"
    }
   ],
   "source": [
    "using Plots\n",
    "N=size(ytrain)[1]\n",
    "b=ones(N,1)\n",
    "for i=1:N\n",
    "    if ytrain[i,1]==\"R\"\n",
    "        b[i,1]=0\n",
    "    end\n",
    "end\n",
    "b\n",
    "β=[ones(N,1) Xtrain']\\b;\n",
    "b_e = [ones(N,1) Xtrain']*β;\n",
    "err=b_e-b\n",
    "err'*err\n",
    "plot(1:N,[b_e,b])\n"
   ]
  },
  {
   "cell_type": "code",
   "execution_count": 284,
   "id": "c92efe9f",
   "metadata": {
    "scrolled": true
   },
   "outputs": [
    {
     "data": {
      "text/plain": [
       "176×1 Matrix{Float64}:\n",
       " 0.0\n",
       " 0.0\n",
       " 0.0\n",
       " 0.0\n",
       " 0.0\n",
       " 0.0\n",
       " 0.0\n",
       " 0.0\n",
       " 0.0\n",
       " 0.0\n",
       " 0.0\n",
       " 0.0\n",
       " 0.0\n",
       " ⋮\n",
       " 1.0\n",
       " 1.0\n",
       " 1.0\n",
       " 1.0\n",
       " 1.0\n",
       " 1.0\n",
       " 1.0\n",
       " 1.0\n",
       " 1.0\n",
       " 1.0\n",
       " 1.0\n",
       " 1.0"
      ]
     },
     "execution_count": 284,
     "metadata": {},
     "output_type": "execute_result"
    }
   ],
   "source": [
    "b"
   ]
  },
  {
   "cell_type": "code",
   "execution_count": 288,
   "id": "7514385c",
   "metadata": {},
   "outputs": [
    {
     "data": {
      "image/svg+xml": [
       "<?xml version=\"1.0\" encoding=\"utf-8\"?>\n",
       "<svg xmlns=\"http://www.w3.org/2000/svg\" xmlns:xlink=\"http://www.w3.org/1999/xlink\" width=\"600\" height=\"400\" viewBox=\"0 0 2400 1600\">\n",
       "<defs>\n",
       "  <clipPath id=\"clip340\">\n",
       "    <rect x=\"0\" y=\"0\" width=\"2400\" height=\"1600\"/>\n",
       "  </clipPath>\n",
       "</defs>\n",
       "<path clip-path=\"url(#clip340)\" d=\"\n",
       "M0 1600 L2400 1600 L2400 0 L0 0  Z\n",
       "  \" fill=\"#ffffff\" fill-rule=\"evenodd\" fill-opacity=\"1\"/>\n",
       "<defs>\n",
       "  <clipPath id=\"clip341\">\n",
       "    <rect x=\"480\" y=\"0\" width=\"1681\" height=\"1600\"/>\n",
       "  </clipPath>\n",
       "</defs>\n",
       "<path clip-path=\"url(#clip340)\" d=\"\n",
       "M147.478 1486.45 L2352.76 1486.45 L2352.76 47.2441 L147.478 47.2441  Z\n",
       "  \" fill=\"#ffffff\" fill-rule=\"evenodd\" fill-opacity=\"1\"/>\n",
       "<defs>\n",
       "  <clipPath id=\"clip342\">\n",
       "    <rect x=\"147\" y=\"47\" width=\"2206\" height=\"1440\"/>\n",
       "  </clipPath>\n",
       "</defs>\n",
       "<polyline clip-path=\"url(#clip342)\" style=\"stroke:#000000; stroke-linecap:butt; stroke-linejoin:round; stroke-width:2; stroke-opacity:0.1; fill:none\" points=\"\n",
       "  198.003,1486.45 198.003,47.2441 \n",
       "  \"/>\n",
       "<polyline clip-path=\"url(#clip342)\" style=\"stroke:#000000; stroke-linecap:butt; stroke-linejoin:round; stroke-width:2; stroke-opacity:0.1; fill:none\" points=\"\n",
       "  792.418,1486.45 792.418,47.2441 \n",
       "  \"/>\n",
       "<polyline clip-path=\"url(#clip342)\" style=\"stroke:#000000; stroke-linecap:butt; stroke-linejoin:round; stroke-width:2; stroke-opacity:0.1; fill:none\" points=\"\n",
       "  1386.83,1486.45 1386.83,47.2441 \n",
       "  \"/>\n",
       "<polyline clip-path=\"url(#clip342)\" style=\"stroke:#000000; stroke-linecap:butt; stroke-linejoin:round; stroke-width:2; stroke-opacity:0.1; fill:none\" points=\"\n",
       "  1981.25,1486.45 1981.25,47.2441 \n",
       "  \"/>\n",
       "<polyline clip-path=\"url(#clip340)\" style=\"stroke:#000000; stroke-linecap:butt; stroke-linejoin:round; stroke-width:4; stroke-opacity:1; fill:none\" points=\"\n",
       "  147.478,1486.45 2352.76,1486.45 \n",
       "  \"/>\n",
       "<polyline clip-path=\"url(#clip340)\" style=\"stroke:#000000; stroke-linecap:butt; stroke-linejoin:round; stroke-width:4; stroke-opacity:1; fill:none\" points=\"\n",
       "  198.003,1486.45 198.003,1467.55 \n",
       "  \"/>\n",
       "<polyline clip-path=\"url(#clip340)\" style=\"stroke:#000000; stroke-linecap:butt; stroke-linejoin:round; stroke-width:4; stroke-opacity:1; fill:none\" points=\"\n",
       "  792.418,1486.45 792.418,1467.55 \n",
       "  \"/>\n",
       "<polyline clip-path=\"url(#clip340)\" style=\"stroke:#000000; stroke-linecap:butt; stroke-linejoin:round; stroke-width:4; stroke-opacity:1; fill:none\" points=\"\n",
       "  1386.83,1486.45 1386.83,1467.55 \n",
       "  \"/>\n",
       "<polyline clip-path=\"url(#clip340)\" style=\"stroke:#000000; stroke-linecap:butt; stroke-linejoin:round; stroke-width:4; stroke-opacity:1; fill:none\" points=\"\n",
       "  1981.25,1486.45 1981.25,1467.55 \n",
       "  \"/>\n",
       "<path clip-path=\"url(#clip340)\" d=\"M198.003 1517.37 Q194.392 1517.37 192.563 1520.93 Q190.758 1524.47 190.758 1531.6 Q190.758 1538.71 192.563 1542.27 Q194.392 1545.82 198.003 1545.82 Q201.637 1545.82 203.443 1542.27 Q205.272 1538.71 205.272 1531.6 Q205.272 1524.47 203.443 1520.93 Q201.637 1517.37 198.003 1517.37 M198.003 1513.66 Q203.813 1513.66 206.869 1518.27 Q209.948 1522.85 209.948 1531.6 Q209.948 1540.33 206.869 1544.94 Q203.813 1549.52 198.003 1549.52 Q192.193 1549.52 189.114 1544.94 Q186.059 1540.33 186.059 1531.6 Q186.059 1522.85 189.114 1518.27 Q192.193 1513.66 198.003 1513.66 Z\" fill=\"#000000\" fill-rule=\"evenodd\" fill-opacity=\"1\" /><path clip-path=\"url(#clip340)\" d=\"M767.117 1514.29 L785.473 1514.29 L785.473 1518.22 L771.399 1518.22 L771.399 1526.7 Q772.418 1526.35 773.436 1526.19 Q774.455 1526 775.473 1526 Q781.26 1526 784.64 1529.17 Q788.02 1532.34 788.02 1537.76 Q788.02 1543.34 784.547 1546.44 Q781.075 1549.52 774.756 1549.52 Q772.58 1549.52 770.311 1549.15 Q768.066 1548.78 765.659 1548.04 L765.659 1543.34 Q767.742 1544.47 769.964 1545.03 Q772.186 1545.58 774.663 1545.58 Q778.668 1545.58 781.006 1543.48 Q783.344 1541.37 783.344 1537.76 Q783.344 1534.15 781.006 1532.04 Q778.668 1529.94 774.663 1529.94 Q772.788 1529.94 770.913 1530.35 Q769.061 1530.77 767.117 1531.65 L767.117 1514.29 Z\" fill=\"#000000\" fill-rule=\"evenodd\" fill-opacity=\"1\" /><path clip-path=\"url(#clip340)\" d=\"M807.232 1517.37 Q803.621 1517.37 801.793 1520.93 Q799.987 1524.47 799.987 1531.6 Q799.987 1538.71 801.793 1542.27 Q803.621 1545.82 807.232 1545.82 Q810.867 1545.82 812.672 1542.27 Q814.501 1538.71 814.501 1531.6 Q814.501 1524.47 812.672 1520.93 Q810.867 1517.37 807.232 1517.37 M807.232 1513.66 Q813.043 1513.66 816.098 1518.27 Q819.177 1522.85 819.177 1531.6 Q819.177 1540.33 816.098 1544.94 Q813.043 1549.52 807.232 1549.52 Q801.422 1549.52 798.344 1544.94 Q795.288 1540.33 795.288 1531.6 Q795.288 1522.85 798.344 1518.27 Q801.422 1513.66 807.232 1513.66 Z\" fill=\"#000000\" fill-rule=\"evenodd\" fill-opacity=\"1\" /><path clip-path=\"url(#clip340)\" d=\"M1346.44 1544.91 L1354.08 1544.91 L1354.08 1518.55 L1345.77 1520.21 L1345.77 1515.95 L1354.03 1514.29 L1358.71 1514.29 L1358.71 1544.91 L1366.35 1544.91 L1366.35 1548.85 L1346.44 1548.85 L1346.44 1544.91 Z\" fill=\"#000000\" fill-rule=\"evenodd\" fill-opacity=\"1\" /><path clip-path=\"url(#clip340)\" d=\"M1385.79 1517.37 Q1382.18 1517.37 1380.35 1520.93 Q1378.55 1524.47 1378.55 1531.6 Q1378.55 1538.71 1380.35 1542.27 Q1382.18 1545.82 1385.79 1545.82 Q1389.42 1545.82 1391.23 1542.27 Q1393.06 1538.71 1393.06 1531.6 Q1393.06 1524.47 1391.23 1520.93 Q1389.42 1517.37 1385.79 1517.37 M1385.79 1513.66 Q1391.6 1513.66 1394.66 1518.27 Q1397.73 1522.85 1397.73 1531.6 Q1397.73 1540.33 1394.66 1544.94 Q1391.6 1549.52 1385.79 1549.52 Q1379.98 1549.52 1376.9 1544.94 Q1373.85 1540.33 1373.85 1531.6 Q1373.85 1522.85 1376.9 1518.27 Q1379.98 1513.66 1385.79 1513.66 Z\" fill=\"#000000\" fill-rule=\"evenodd\" fill-opacity=\"1\" /><path clip-path=\"url(#clip340)\" d=\"M1415.95 1517.37 Q1412.34 1517.37 1410.51 1520.93 Q1408.71 1524.47 1408.71 1531.6 Q1408.71 1538.71 1410.51 1542.27 Q1412.34 1545.82 1415.95 1545.82 Q1419.59 1545.82 1421.39 1542.27 Q1423.22 1538.71 1423.22 1531.6 Q1423.22 1524.47 1421.39 1520.93 Q1419.59 1517.37 1415.95 1517.37 M1415.95 1513.66 Q1421.76 1513.66 1424.82 1518.27 Q1427.9 1522.85 1427.9 1531.6 Q1427.9 1540.33 1424.82 1544.94 Q1421.76 1549.52 1415.95 1549.52 Q1410.14 1549.52 1407.06 1544.94 Q1404.01 1540.33 1404.01 1531.6 Q1404.01 1522.85 1407.06 1518.27 Q1410.14 1513.66 1415.95 1513.66 Z\" fill=\"#000000\" fill-rule=\"evenodd\" fill-opacity=\"1\" /><path clip-path=\"url(#clip340)\" d=\"M1940.85 1544.91 L1948.49 1544.91 L1948.49 1518.55 L1940.18 1520.21 L1940.18 1515.95 L1948.45 1514.29 L1953.12 1514.29 L1953.12 1544.91 L1960.76 1544.91 L1960.76 1548.85 L1940.85 1548.85 L1940.85 1544.91 Z\" fill=\"#000000\" fill-rule=\"evenodd\" fill-opacity=\"1\" /><path clip-path=\"url(#clip340)\" d=\"M1970.25 1514.29 L1988.61 1514.29 L1988.61 1518.22 L1974.53 1518.22 L1974.53 1526.7 Q1975.55 1526.35 1976.57 1526.19 Q1977.59 1526 1978.61 1526 Q1984.39 1526 1987.77 1529.17 Q1991.15 1532.34 1991.15 1537.76 Q1991.15 1543.34 1987.68 1546.44 Q1984.21 1549.52 1977.89 1549.52 Q1975.71 1549.52 1973.45 1549.15 Q1971.2 1548.78 1968.79 1548.04 L1968.79 1543.34 Q1970.88 1544.47 1973.1 1545.03 Q1975.32 1545.58 1977.8 1545.58 Q1981.8 1545.58 1984.14 1543.48 Q1986.48 1541.37 1986.48 1537.76 Q1986.48 1534.15 1984.14 1532.04 Q1981.8 1529.94 1977.8 1529.94 Q1975.92 1529.94 1974.05 1530.35 Q1972.2 1530.77 1970.25 1531.65 L1970.25 1514.29 Z\" fill=\"#000000\" fill-rule=\"evenodd\" fill-opacity=\"1\" /><path clip-path=\"url(#clip340)\" d=\"M2010.37 1517.37 Q2006.76 1517.37 2004.93 1520.93 Q2003.12 1524.47 2003.12 1531.6 Q2003.12 1538.71 2004.93 1542.27 Q2006.76 1545.82 2010.37 1545.82 Q2014 1545.82 2015.81 1542.27 Q2017.64 1538.71 2017.64 1531.6 Q2017.64 1524.47 2015.81 1520.93 Q2014 1517.37 2010.37 1517.37 M2010.37 1513.66 Q2016.18 1513.66 2019.23 1518.27 Q2022.31 1522.85 2022.31 1531.6 Q2022.31 1540.33 2019.23 1544.94 Q2016.18 1549.52 2010.37 1549.52 Q2004.56 1549.52 2001.48 1544.94 Q1998.42 1540.33 1998.42 1531.6 Q1998.42 1522.85 2001.48 1518.27 Q2004.56 1513.66 2010.37 1513.66 Z\" fill=\"#000000\" fill-rule=\"evenodd\" fill-opacity=\"1\" /><polyline clip-path=\"url(#clip342)\" style=\"stroke:#000000; stroke-linecap:butt; stroke-linejoin:round; stroke-width:2; stroke-opacity:0.1; fill:none\" points=\"\n",
       "  147.478,1486.45 2352.76,1486.45 \n",
       "  \"/>\n",
       "<polyline clip-path=\"url(#clip342)\" style=\"stroke:#000000; stroke-linecap:butt; stroke-linejoin:round; stroke-width:2; stroke-opacity:0.1; fill:none\" points=\"\n",
       "  147.478,1006.71 2352.76,1006.71 \n",
       "  \"/>\n",
       "<polyline clip-path=\"url(#clip342)\" style=\"stroke:#000000; stroke-linecap:butt; stroke-linejoin:round; stroke-width:2; stroke-opacity:0.1; fill:none\" points=\"\n",
       "  147.478,526.979 2352.76,526.979 \n",
       "  \"/>\n",
       "<polyline clip-path=\"url(#clip342)\" style=\"stroke:#000000; stroke-linecap:butt; stroke-linejoin:round; stroke-width:2; stroke-opacity:0.1; fill:none\" points=\"\n",
       "  147.478,47.2441 2352.76,47.2441 \n",
       "  \"/>\n",
       "<polyline clip-path=\"url(#clip340)\" style=\"stroke:#000000; stroke-linecap:butt; stroke-linejoin:round; stroke-width:4; stroke-opacity:1; fill:none\" points=\"\n",
       "  147.478,1486.45 147.478,47.2441 \n",
       "  \"/>\n",
       "<polyline clip-path=\"url(#clip340)\" style=\"stroke:#000000; stroke-linecap:butt; stroke-linejoin:round; stroke-width:4; stroke-opacity:1; fill:none\" points=\"\n",
       "  147.478,1486.45 166.376,1486.45 \n",
       "  \"/>\n",
       "<polyline clip-path=\"url(#clip340)\" style=\"stroke:#000000; stroke-linecap:butt; stroke-linejoin:round; stroke-width:4; stroke-opacity:1; fill:none\" points=\"\n",
       "  147.478,1006.71 166.376,1006.71 \n",
       "  \"/>\n",
       "<polyline clip-path=\"url(#clip340)\" style=\"stroke:#000000; stroke-linecap:butt; stroke-linejoin:round; stroke-width:4; stroke-opacity:1; fill:none\" points=\"\n",
       "  147.478,526.979 166.376,526.979 \n",
       "  \"/>\n",
       "<polyline clip-path=\"url(#clip340)\" style=\"stroke:#000000; stroke-linecap:butt; stroke-linejoin:round; stroke-width:4; stroke-opacity:1; fill:none\" points=\"\n",
       "  147.478,47.2441 166.376,47.2441 \n",
       "  \"/>\n",
       "<path clip-path=\"url(#clip340)\" d=\"M50.9921 1486.9 L80.6679 1486.9 L80.6679 1490.83 L50.9921 1490.83 L50.9921 1486.9 Z\" fill=\"#000000\" fill-rule=\"evenodd\" fill-opacity=\"1\" /><path clip-path=\"url(#clip340)\" d=\"M91.5706 1499.79 L99.2095 1499.79 L99.2095 1473.43 L90.8993 1475.09 L90.8993 1470.83 L99.1632 1469.17 L103.839 1469.17 L103.839 1499.79 L111.478 1499.79 L111.478 1503.73 L91.5706 1503.73 L91.5706 1499.79 Z\" fill=\"#000000\" fill-rule=\"evenodd\" fill-opacity=\"1\" /><path clip-path=\"url(#clip340)\" d=\"M99.5335 992.512 Q95.9224 992.512 94.0937 996.077 Q92.2882 999.618 92.2882 1006.75 Q92.2882 1013.85 94.0937 1017.42 Q95.9224 1020.96 99.5335 1020.96 Q103.168 1020.96 104.973 1017.42 Q106.802 1013.85 106.802 1006.75 Q106.802 999.618 104.973 996.077 Q103.168 992.512 99.5335 992.512 M99.5335 988.808 Q105.344 988.808 108.399 993.415 Q111.478 997.998 111.478 1006.75 Q111.478 1015.47 108.399 1020.08 Q105.344 1024.66 99.5335 1024.66 Q93.7234 1024.66 90.6447 1020.08 Q87.5892 1015.47 87.5892 1006.75 Q87.5892 997.998 90.6447 993.415 Q93.7234 988.808 99.5335 988.808 Z\" fill=\"#000000\" fill-rule=\"evenodd\" fill-opacity=\"1\" /><path clip-path=\"url(#clip340)\" d=\"M91.5706 540.324 L99.2095 540.324 L99.2095 513.958 L90.8993 515.625 L90.8993 511.365 L99.1632 509.699 L103.839 509.699 L103.839 540.324 L111.478 540.324 L111.478 544.259 L91.5706 544.259 L91.5706 540.324 Z\" fill=\"#000000\" fill-rule=\"evenodd\" fill-opacity=\"1\" /><path clip-path=\"url(#clip340)\" d=\"M95.1586 60.5889 L111.478 60.5889 L111.478 64.5241 L89.5336 64.5241 L89.5336 60.5889 Q92.1956 57.8343 96.7789 53.2047 Q101.385 48.552 102.566 47.2094 Q104.811 44.6862 105.691 42.9501 Q106.594 41.1909 106.594 39.5011 Q106.594 36.7465 104.649 35.0104 Q102.728 33.2743 99.6261 33.2743 Q97.4271 33.2743 94.9734 34.0381 Q92.5428 34.802 89.7651 36.3529 L89.7651 31.6308 Q92.5891 30.4965 95.0428 29.9178 Q97.4965 29.3391 99.5335 29.3391 Q104.904 29.3391 108.098 32.0243 Q111.293 34.7094 111.293 39.2002 Q111.293 41.3298 110.483 43.2511 Q109.696 45.1492 107.589 47.7418 Q107.01 48.4131 103.909 51.6306 Q100.807 54.8251 95.1586 60.5889 Z\" fill=\"#000000\" fill-rule=\"evenodd\" fill-opacity=\"1\" /><polyline clip-path=\"url(#clip342)\" style=\"stroke:#009af9; stroke-linecap:butt; stroke-linejoin:round; stroke-width:4; stroke-opacity:1; fill:none\" points=\"\n",
       "  209.891,1006.71 221.78,1006.71 233.668,1006.71 245.556,1006.71 257.445,1006.71 269.333,1006.71 281.221,1006.71 293.109,1006.71 304.998,1006.71 316.886,1006.71 \n",
       "  328.774,1006.71 340.663,1006.71 352.551,1006.71 364.439,1006.71 376.328,1006.71 388.216,1006.71 400.104,1006.71 411.992,1006.71 423.881,1006.71 435.769,1006.71 \n",
       "  447.657,1006.71 459.546,1006.71 471.434,1006.71 483.322,1006.71 495.21,1006.71 507.099,1006.71 518.987,1006.71 530.875,1006.71 542.764,1006.71 554.652,1006.71 \n",
       "  566.54,1006.71 578.428,1006.71 590.317,1006.71 602.205,1006.71 614.093,1006.71 625.982,1006.71 637.87,1006.71 649.758,1006.71 661.647,1006.71 673.535,1006.71 \n",
       "  685.423,1006.71 697.311,1006.71 709.2,1006.71 721.088,1006.71 732.976,1006.71 744.865,1006.71 756.753,1006.71 768.641,1006.71 780.529,1006.71 792.418,1006.71 \n",
       "  804.306,1006.71 816.194,1006.71 828.083,1006.71 839.971,1006.71 851.859,1006.71 863.747,1006.71 875.636,1006.71 887.524,1006.71 899.412,1006.71 911.301,1006.71 \n",
       "  923.189,1006.71 935.077,1006.71 946.965,1006.71 958.854,1006.71 970.742,1006.71 982.63,1006.71 994.519,1006.71 1006.41,1006.71 1018.3,1006.71 1030.18,1006.71 \n",
       "  1042.07,1006.71 1053.96,1006.71 1065.85,1006.71 1077.74,1006.71 1089.62,1006.71 1101.51,1006.71 1113.4,1006.71 1125.29,1006.71 1137.18,1006.71 1149.07,1006.71 \n",
       "  1160.95,1006.71 1172.84,1006.71 1184.73,526.979 1196.62,526.979 1208.51,526.979 1220.4,526.979 1232.28,526.979 1244.17,526.979 1256.06,526.979 1267.95,526.979 \n",
       "  1279.84,526.979 1291.73,526.979 1303.61,526.979 1315.5,526.979 1327.39,526.979 1339.28,526.979 1351.17,526.979 1363.06,526.979 1374.94,526.979 1386.83,526.979 \n",
       "  1398.72,526.979 1410.61,526.979 1422.5,526.979 1434.39,526.979 1446.27,526.979 1458.16,526.979 1470.05,526.979 1481.94,526.979 1493.83,526.979 1505.72,526.979 \n",
       "  1517.6,526.979 1529.49,526.979 1541.38,526.979 1553.27,526.979 1565.16,526.979 1577.04,526.979 1588.93,526.979 1600.82,526.979 1612.71,526.979 1624.6,526.979 \n",
       "  1636.49,526.979 1648.37,526.979 1660.26,526.979 1672.15,526.979 1684.04,526.979 1695.93,526.979 1707.82,526.979 1719.7,526.979 1731.59,526.979 1743.48,526.979 \n",
       "  1755.37,526.979 1767.26,526.979 1779.15,526.979 1791.03,526.979 1802.92,526.979 1814.81,526.979 1826.7,526.979 1838.59,526.979 1850.48,526.979 1862.36,526.979 \n",
       "  1874.25,526.979 1886.14,526.979 1898.03,526.979 1909.92,526.979 1921.81,526.979 1933.69,526.979 1945.58,526.979 1957.47,526.979 1969.36,526.979 1981.25,526.979 \n",
       "  1993.14,526.979 2005.02,526.979 2016.91,526.979 2028.8,526.979 2040.69,526.979 2052.58,526.979 2064.46,526.979 2076.35,526.979 2088.24,526.979 2100.13,526.979 \n",
       "  2112.02,526.979 2123.91,526.979 2135.79,526.979 2147.68,526.979 2159.57,526.979 2171.46,526.979 2183.35,526.979 2195.24,526.979 2207.12,526.979 2219.01,526.979 \n",
       "  2230.9,526.979 2242.79,526.979 2254.68,526.979 2266.57,526.979 2278.45,526.979 2290.34,526.979 \n",
       "  \"/>\n",
       "<polyline clip-path=\"url(#clip342)\" style=\"stroke:#e26f46; stroke-linecap:butt; stroke-linejoin:round; stroke-width:4; stroke-opacity:1; fill:none\" points=\"\n",
       "  209.891,526.979 221.78,1006.71 233.668,1006.71 245.556,526.979 257.445,526.979 269.333,1006.71 281.221,1006.71 293.109,1006.71 304.998,1006.71 316.886,1006.71 \n",
       "  328.774,1006.71 340.663,1006.71 352.551,1006.71 364.439,1006.71 376.328,526.979 388.216,1006.71 400.104,1006.71 411.992,1006.71 423.881,1006.71 435.769,1006.71 \n",
       "  447.657,1006.71 459.546,1006.71 471.434,1006.71 483.322,1006.71 495.21,1006.71 507.099,1006.71 518.987,1006.71 530.875,1006.71 542.764,1006.71 554.652,1006.71 \n",
       "  566.54,1006.71 578.428,1006.71 590.317,1006.71 602.205,526.979 614.093,1006.71 625.982,1006.71 637.87,1006.71 649.758,1006.71 661.647,1006.71 673.535,1006.71 \n",
       "  685.423,1006.71 697.311,1006.71 709.2,1006.71 721.088,1006.71 732.976,1006.71 744.865,1006.71 756.753,1006.71 768.641,1006.71 780.529,1006.71 792.418,1006.71 \n",
       "  804.306,526.979 816.194,1006.71 828.083,1006.71 839.971,1006.71 851.859,1006.71 863.747,1006.71 875.636,1006.71 887.524,1006.71 899.412,1006.71 911.301,1006.71 \n",
       "  923.189,1006.71 935.077,1006.71 946.965,1006.71 958.854,1006.71 970.742,1006.71 982.63,1006.71 994.519,1006.71 1006.41,1006.71 1018.3,526.979 1030.18,1006.71 \n",
       "  1042.07,1006.71 1053.96,1006.71 1065.85,1006.71 1077.74,1006.71 1089.62,1006.71 1101.51,1006.71 1113.4,1006.71 1125.29,1006.71 1137.18,1006.71 1149.07,1006.71 \n",
       "  1160.95,1006.71 1172.84,1006.71 1184.73,526.979 1196.62,526.979 1208.51,526.979 1220.4,526.979 1232.28,1006.71 1244.17,526.979 1256.06,526.979 1267.95,526.979 \n",
       "  1279.84,526.979 1291.73,526.979 1303.61,526.979 1315.5,526.979 1327.39,526.979 1339.28,526.979 1351.17,526.979 1363.06,526.979 1374.94,526.979 1386.83,526.979 \n",
       "  1398.72,526.979 1410.61,526.979 1422.5,526.979 1434.39,1006.71 1446.27,526.979 1458.16,526.979 1470.05,526.979 1481.94,526.979 1493.83,526.979 1505.72,526.979 \n",
       "  1517.6,1006.71 1529.49,526.979 1541.38,526.979 1553.27,1006.71 1565.16,526.979 1577.04,526.979 1588.93,526.979 1600.82,526.979 1612.71,526.979 1624.6,526.979 \n",
       "  1636.49,526.979 1648.37,526.979 1660.26,526.979 1672.15,526.979 1684.04,526.979 1695.93,526.979 1707.82,526.979 1719.7,526.979 1731.59,526.979 1743.48,526.979 \n",
       "  1755.37,526.979 1767.26,526.979 1779.15,526.979 1791.03,526.979 1802.92,526.979 1814.81,526.979 1826.7,526.979 1838.59,526.979 1850.48,526.979 1862.36,526.979 \n",
       "  1874.25,526.979 1886.14,526.979 1898.03,526.979 1909.92,526.979 1921.81,526.979 1933.69,526.979 1945.58,526.979 1957.47,526.979 1969.36,526.979 1981.25,526.979 \n",
       "  1993.14,526.979 2005.02,526.979 2016.91,526.979 2028.8,526.979 2040.69,526.979 2052.58,526.979 2064.46,526.979 2076.35,526.979 2088.24,526.979 2100.13,526.979 \n",
       "  2112.02,526.979 2123.91,526.979 2135.79,526.979 2147.68,526.979 2159.57,526.979 2171.46,526.979 2183.35,526.979 2195.24,526.979 2207.12,526.979 2219.01,526.979 \n",
       "  2230.9,526.979 2242.79,526.979 2254.68,526.979 2266.57,526.979 2278.45,526.979 2290.34,526.979 \n",
       "  \"/>\n",
       "<path clip-path=\"url(#clip340)\" d=\"\n",
       "M1981.79 250.738 L2279.25 250.738 L2279.25 95.2176 L1981.79 95.2176  Z\n",
       "  \" fill=\"#ffffff\" fill-rule=\"evenodd\" fill-opacity=\"1\"/>\n",
       "<polyline clip-path=\"url(#clip340)\" style=\"stroke:#000000; stroke-linecap:butt; stroke-linejoin:round; stroke-width:4; stroke-opacity:1; fill:none\" points=\"\n",
       "  1981.79,250.738 2279.25,250.738 2279.25,95.2176 1981.79,95.2176 1981.79,250.738 \n",
       "  \"/>\n",
       "<polyline clip-path=\"url(#clip340)\" style=\"stroke:#009af9; stroke-linecap:butt; stroke-linejoin:round; stroke-width:4; stroke-opacity:1; fill:none\" points=\"\n",
       "  2006.29,147.058 2153.31,147.058 \n",
       "  \"/>\n",
       "<path clip-path=\"url(#clip340)\" d=\"M2191.65 166.745 Q2189.85 171.375 2188.13 172.787 Q2186.42 174.199 2183.55 174.199 L2180.15 174.199 L2180.15 170.634 L2182.65 170.634 Q2184.41 170.634 2185.38 169.8 Q2186.35 168.967 2187.53 165.865 L2188.3 163.921 L2177.81 138.412 L2182.32 138.412 L2190.43 158.689 L2198.53 138.412 L2203.04 138.412 L2191.65 166.745 Z\" fill=\"#000000\" fill-rule=\"evenodd\" fill-opacity=\"1\" /><path clip-path=\"url(#clip340)\" d=\"M2210.33 160.402 L2217.97 160.402 L2217.97 134.037 L2209.66 135.703 L2209.66 131.444 L2217.93 129.778 L2222.6 129.778 L2222.6 160.402 L2230.24 160.402 L2230.24 164.338 L2210.33 164.338 L2210.33 160.402 Z\" fill=\"#000000\" fill-rule=\"evenodd\" fill-opacity=\"1\" /><polyline clip-path=\"url(#clip340)\" style=\"stroke:#e26f46; stroke-linecap:butt; stroke-linejoin:round; stroke-width:4; stroke-opacity:1; fill:none\" points=\"\n",
       "  2006.29,198.898 2153.31,198.898 \n",
       "  \"/>\n",
       "<path clip-path=\"url(#clip340)\" d=\"M2191.65 218.585 Q2189.85 223.215 2188.13 224.627 Q2186.42 226.039 2183.55 226.039 L2180.15 226.039 L2180.15 222.474 L2182.65 222.474 Q2184.41 222.474 2185.38 221.64 Q2186.35 220.807 2187.53 217.705 L2188.3 215.761 L2177.81 190.252 L2182.32 190.252 L2190.43 210.529 L2198.53 190.252 L2203.04 190.252 L2191.65 218.585 Z\" fill=\"#000000\" fill-rule=\"evenodd\" fill-opacity=\"1\" /><path clip-path=\"url(#clip340)\" d=\"M2213.55 212.242 L2229.87 212.242 L2229.87 216.178 L2207.93 216.178 L2207.93 212.242 Q2210.59 209.488 2215.17 204.858 Q2219.78 200.205 2220.96 198.863 Q2223.2 196.34 2224.08 194.604 Q2224.99 192.844 2224.99 191.155 Q2224.99 188.4 2223.04 186.664 Q2221.12 184.928 2218.02 184.928 Q2215.82 184.928 2213.37 185.692 Q2210.94 186.455 2208.16 188.006 L2208.16 183.284 Q2210.98 182.15 2213.43 181.571 Q2215.89 180.993 2217.93 180.993 Q2223.3 180.993 2226.49 183.678 Q2229.68 186.363 2229.68 190.854 Q2229.68 192.983 2228.87 194.905 Q2228.09 196.803 2225.98 199.395 Q2225.4 200.067 2222.3 203.284 Q2219.2 206.479 2213.55 212.242 Z\" fill=\"#000000\" fill-rule=\"evenodd\" fill-opacity=\"1\" /></svg>\n"
      ]
     },
     "execution_count": 288,
     "metadata": {},
     "output_type": "execute_result"
    }
   ],
   "source": [
    "b_e2=b_e\n",
    "for i=1:N\n",
    "    if b_e[i,1]<0.5\n",
    "        b_e2[i,1]=0\n",
    "    else\n",
    "        b_e2[i,1]=1\n",
    "    end\n",
    "end\n",
    "plot(1:N,[b,b_e2], ylims = (-1, 2))\n",
    "\n"
   ]
  },
  {
   "cell_type": "code",
   "execution_count": 291,
   "id": "f6087a0d",
   "metadata": {
    "scrolled": true
   },
   "outputs": [
    {
     "data": {
      "image/svg+xml": [
       "<?xml version=\"1.0\" encoding=\"utf-8\"?>\n",
       "<svg xmlns=\"http://www.w3.org/2000/svg\" xmlns:xlink=\"http://www.w3.org/1999/xlink\" width=\"600\" height=\"400\" viewBox=\"0 0 2400 1600\">\n",
       "<defs>\n",
       "  <clipPath id=\"clip380\">\n",
       "    <rect x=\"0\" y=\"0\" width=\"2400\" height=\"1600\"/>\n",
       "  </clipPath>\n",
       "</defs>\n",
       "<path clip-path=\"url(#clip380)\" d=\"\n",
       "M0 1600 L2400 1600 L2400 0 L0 0  Z\n",
       "  \" fill=\"#ffffff\" fill-rule=\"evenodd\" fill-opacity=\"1\"/>\n",
       "<defs>\n",
       "  <clipPath id=\"clip381\">\n",
       "    <rect x=\"480\" y=\"0\" width=\"1681\" height=\"1600\"/>\n",
       "  </clipPath>\n",
       "</defs>\n",
       "<path clip-path=\"url(#clip380)\" d=\"\n",
       "M147.478 1486.45 L2352.76 1486.45 L2352.76 47.2441 L147.478 47.2441  Z\n",
       "  \" fill=\"#ffffff\" fill-rule=\"evenodd\" fill-opacity=\"1\"/>\n",
       "<defs>\n",
       "  <clipPath id=\"clip382\">\n",
       "    <rect x=\"147\" y=\"47\" width=\"2206\" height=\"1440\"/>\n",
       "  </clipPath>\n",
       "</defs>\n",
       "<polyline clip-path=\"url(#clip382)\" style=\"stroke:#000000; stroke-linecap:butt; stroke-linejoin:round; stroke-width:2; stroke-opacity:0.1; fill:none\" points=\"\n",
       "  478.337,1486.45 478.337,47.2441 \n",
       "  \"/>\n",
       "<polyline clip-path=\"url(#clip382)\" style=\"stroke:#000000; stroke-linecap:butt; stroke-linejoin:round; stroke-width:2; stroke-opacity:0.1; fill:none\" points=\"\n",
       "  813.893,1486.45 813.893,47.2441 \n",
       "  \"/>\n",
       "<polyline clip-path=\"url(#clip382)\" style=\"stroke:#000000; stroke-linecap:butt; stroke-linejoin:round; stroke-width:2; stroke-opacity:0.1; fill:none\" points=\"\n",
       "  1149.45,1486.45 1149.45,47.2441 \n",
       "  \"/>\n",
       "<polyline clip-path=\"url(#clip382)\" style=\"stroke:#000000; stroke-linecap:butt; stroke-linejoin:round; stroke-width:2; stroke-opacity:0.1; fill:none\" points=\"\n",
       "  1485.01,1486.45 1485.01,47.2441 \n",
       "  \"/>\n",
       "<polyline clip-path=\"url(#clip382)\" style=\"stroke:#000000; stroke-linecap:butt; stroke-linejoin:round; stroke-width:2; stroke-opacity:0.1; fill:none\" points=\"\n",
       "  1820.56,1486.45 1820.56,47.2441 \n",
       "  \"/>\n",
       "<polyline clip-path=\"url(#clip382)\" style=\"stroke:#000000; stroke-linecap:butt; stroke-linejoin:round; stroke-width:2; stroke-opacity:0.1; fill:none\" points=\"\n",
       "  2156.12,1486.45 2156.12,47.2441 \n",
       "  \"/>\n",
       "<polyline clip-path=\"url(#clip380)\" style=\"stroke:#000000; stroke-linecap:butt; stroke-linejoin:round; stroke-width:4; stroke-opacity:1; fill:none\" points=\"\n",
       "  147.478,1486.45 2352.76,1486.45 \n",
       "  \"/>\n",
       "<polyline clip-path=\"url(#clip380)\" style=\"stroke:#000000; stroke-linecap:butt; stroke-linejoin:round; stroke-width:4; stroke-opacity:1; fill:none\" points=\"\n",
       "  478.337,1486.45 478.337,1467.55 \n",
       "  \"/>\n",
       "<polyline clip-path=\"url(#clip380)\" style=\"stroke:#000000; stroke-linecap:butt; stroke-linejoin:round; stroke-width:4; stroke-opacity:1; fill:none\" points=\"\n",
       "  813.893,1486.45 813.893,1467.55 \n",
       "  \"/>\n",
       "<polyline clip-path=\"url(#clip380)\" style=\"stroke:#000000; stroke-linecap:butt; stroke-linejoin:round; stroke-width:4; stroke-opacity:1; fill:none\" points=\"\n",
       "  1149.45,1486.45 1149.45,1467.55 \n",
       "  \"/>\n",
       "<polyline clip-path=\"url(#clip380)\" style=\"stroke:#000000; stroke-linecap:butt; stroke-linejoin:round; stroke-width:4; stroke-opacity:1; fill:none\" points=\"\n",
       "  1485.01,1486.45 1485.01,1467.55 \n",
       "  \"/>\n",
       "<polyline clip-path=\"url(#clip380)\" style=\"stroke:#000000; stroke-linecap:butt; stroke-linejoin:round; stroke-width:4; stroke-opacity:1; fill:none\" points=\"\n",
       "  1820.56,1486.45 1820.56,1467.55 \n",
       "  \"/>\n",
       "<polyline clip-path=\"url(#clip380)\" style=\"stroke:#000000; stroke-linecap:butt; stroke-linejoin:round; stroke-width:4; stroke-opacity:1; fill:none\" points=\"\n",
       "  2156.12,1486.45 2156.12,1467.55 \n",
       "  \"/>\n",
       "<path clip-path=\"url(#clip380)\" d=\"M468.615 1514.29 L486.971 1514.29 L486.971 1518.22 L472.897 1518.22 L472.897 1526.7 Q473.915 1526.35 474.934 1526.19 Q475.952 1526 476.971 1526 Q482.758 1526 486.138 1529.17 Q489.517 1532.34 489.517 1537.76 Q489.517 1543.34 486.045 1546.44 Q482.573 1549.52 476.253 1549.52 Q474.077 1549.52 471.809 1549.15 Q469.564 1548.78 467.156 1548.04 L467.156 1543.34 Q469.24 1544.47 471.462 1545.03 Q473.684 1545.58 476.161 1545.58 Q480.165 1545.58 482.503 1543.48 Q484.841 1541.37 484.841 1537.76 Q484.841 1534.15 482.503 1532.04 Q480.165 1529.94 476.161 1529.94 Q474.286 1529.94 472.411 1530.35 Q470.559 1530.77 468.615 1531.65 L468.615 1514.29 Z\" fill=\"#000000\" fill-rule=\"evenodd\" fill-opacity=\"1\" /><path clip-path=\"url(#clip380)\" d=\"M788.581 1544.91 L796.22 1544.91 L796.22 1518.55 L787.91 1520.21 L787.91 1515.95 L796.174 1514.29 L800.849 1514.29 L800.849 1544.91 L808.488 1544.91 L808.488 1548.85 L788.581 1548.85 L788.581 1544.91 Z\" fill=\"#000000\" fill-rule=\"evenodd\" fill-opacity=\"1\" /><path clip-path=\"url(#clip380)\" d=\"M827.933 1517.37 Q824.322 1517.37 822.493 1520.93 Q820.687 1524.47 820.687 1531.6 Q820.687 1538.71 822.493 1542.27 Q824.322 1545.82 827.933 1545.82 Q831.567 1545.82 833.372 1542.27 Q835.201 1538.71 835.201 1531.6 Q835.201 1524.47 833.372 1520.93 Q831.567 1517.37 827.933 1517.37 M827.933 1513.66 Q833.743 1513.66 836.798 1518.27 Q839.877 1522.85 839.877 1531.6 Q839.877 1540.33 836.798 1544.94 Q833.743 1549.52 827.933 1549.52 Q822.122 1549.52 819.044 1544.94 Q815.988 1540.33 815.988 1531.6 Q815.988 1522.85 819.044 1518.27 Q822.122 1513.66 827.933 1513.66 Z\" fill=\"#000000\" fill-rule=\"evenodd\" fill-opacity=\"1\" /><path clip-path=\"url(#clip380)\" d=\"M1124.64 1544.91 L1132.27 1544.91 L1132.27 1518.55 L1123.96 1520.21 L1123.96 1515.95 L1132.23 1514.29 L1136.9 1514.29 L1136.9 1544.91 L1144.54 1544.91 L1144.54 1548.85 L1124.64 1548.85 L1124.64 1544.91 Z\" fill=\"#000000\" fill-rule=\"evenodd\" fill-opacity=\"1\" /><path clip-path=\"url(#clip380)\" d=\"M1154.03 1514.29 L1172.39 1514.29 L1172.39 1518.22 L1158.32 1518.22 L1158.32 1526.7 Q1159.33 1526.35 1160.35 1526.19 Q1161.37 1526 1162.39 1526 Q1168.18 1526 1171.56 1529.17 Q1174.94 1532.34 1174.94 1537.76 Q1174.94 1543.34 1171.46 1546.44 Q1167.99 1549.52 1161.67 1549.52 Q1159.5 1549.52 1157.23 1549.15 Q1154.98 1548.78 1152.57 1548.04 L1152.57 1543.34 Q1154.66 1544.47 1156.88 1545.03 Q1159.1 1545.58 1161.58 1545.58 Q1165.58 1545.58 1167.92 1543.48 Q1170.26 1541.37 1170.26 1537.76 Q1170.26 1534.15 1167.92 1532.04 Q1165.58 1529.94 1161.58 1529.94 Q1159.7 1529.94 1157.83 1530.35 Q1155.98 1530.77 1154.03 1531.65 L1154.03 1514.29 Z\" fill=\"#000000\" fill-rule=\"evenodd\" fill-opacity=\"1\" /><path clip-path=\"url(#clip380)\" d=\"M1463.78 1544.91 L1480.1 1544.91 L1480.1 1548.85 L1458.15 1548.85 L1458.15 1544.91 Q1460.82 1542.16 1465.4 1537.53 Q1470.01 1532.88 1471.19 1531.53 Q1473.43 1529.01 1474.31 1527.27 Q1475.21 1525.51 1475.21 1523.82 Q1475.21 1521.07 1473.27 1519.33 Q1471.35 1517.6 1468.25 1517.6 Q1466.05 1517.6 1463.59 1518.36 Q1461.16 1519.13 1458.39 1520.68 L1458.39 1515.95 Q1461.21 1514.82 1463.66 1514.24 Q1466.12 1513.66 1468.15 1513.66 Q1473.53 1513.66 1476.72 1516.35 Q1479.91 1519.03 1479.91 1523.52 Q1479.91 1525.65 1479.1 1527.57 Q1478.32 1529.47 1476.21 1532.07 Q1475.63 1532.74 1472.53 1535.95 Q1469.43 1539.15 1463.78 1544.91 Z\" fill=\"#000000\" fill-rule=\"evenodd\" fill-opacity=\"1\" /><path clip-path=\"url(#clip380)\" d=\"M1499.91 1517.37 Q1496.3 1517.37 1494.47 1520.93 Q1492.67 1524.47 1492.67 1531.6 Q1492.67 1538.71 1494.47 1542.27 Q1496.3 1545.82 1499.91 1545.82 Q1503.55 1545.82 1505.35 1542.27 Q1507.18 1538.71 1507.18 1531.6 Q1507.18 1524.47 1505.35 1520.93 Q1503.55 1517.37 1499.91 1517.37 M1499.91 1513.66 Q1505.72 1513.66 1508.78 1518.27 Q1511.86 1522.85 1511.86 1531.6 Q1511.86 1540.33 1508.78 1544.94 Q1505.72 1549.52 1499.91 1549.52 Q1494.1 1549.52 1491.03 1544.94 Q1487.97 1540.33 1487.97 1531.6 Q1487.97 1522.85 1491.03 1518.27 Q1494.1 1513.66 1499.91 1513.66 Z\" fill=\"#000000\" fill-rule=\"evenodd\" fill-opacity=\"1\" /><path clip-path=\"url(#clip380)\" d=\"M1799.83 1544.91 L1816.15 1544.91 L1816.15 1548.85 L1794.21 1548.85 L1794.21 1544.91 Q1796.87 1542.16 1801.45 1537.53 Q1806.06 1532.88 1807.24 1531.53 Q1809.49 1529.01 1810.37 1527.27 Q1811.27 1525.51 1811.27 1523.82 Q1811.27 1521.07 1809.32 1519.33 Q1807.4 1517.6 1804.3 1517.6 Q1802.1 1517.6 1799.65 1518.36 Q1797.22 1519.13 1794.44 1520.68 L1794.44 1515.95 Q1797.26 1514.82 1799.72 1514.24 Q1802.17 1513.66 1804.21 1513.66 Q1809.58 1513.66 1812.77 1516.35 Q1815.97 1519.03 1815.97 1523.52 Q1815.97 1525.65 1815.16 1527.57 Q1814.37 1529.47 1812.26 1532.07 Q1811.69 1532.74 1808.58 1535.95 Q1805.48 1539.15 1799.83 1544.91 Z\" fill=\"#000000\" fill-rule=\"evenodd\" fill-opacity=\"1\" /><path clip-path=\"url(#clip380)\" d=\"M1826.01 1514.29 L1844.37 1514.29 L1844.37 1518.22 L1830.3 1518.22 L1830.3 1526.7 Q1831.32 1526.35 1832.33 1526.19 Q1833.35 1526 1834.37 1526 Q1840.16 1526 1843.54 1529.17 Q1846.92 1532.34 1846.92 1537.76 Q1846.92 1543.34 1843.44 1546.44 Q1839.97 1549.52 1833.65 1549.52 Q1831.48 1549.52 1829.21 1549.15 Q1826.96 1548.78 1824.56 1548.04 L1824.56 1543.34 Q1826.64 1544.47 1828.86 1545.03 Q1831.08 1545.58 1833.56 1545.58 Q1837.57 1545.58 1839.9 1543.48 Q1842.24 1541.37 1842.24 1537.76 Q1842.24 1534.15 1839.9 1532.04 Q1837.57 1529.94 1833.56 1529.94 Q1831.69 1529.94 1829.81 1530.35 Q1827.96 1530.77 1826.01 1531.65 L1826.01 1514.29 Z\" fill=\"#000000\" fill-rule=\"evenodd\" fill-opacity=\"1\" /><path clip-path=\"url(#clip380)\" d=\"M2144.96 1530.21 Q2148.32 1530.93 2150.19 1533.2 Q2152.09 1535.47 2152.09 1538.8 Q2152.09 1543.92 2148.57 1546.72 Q2145.05 1549.52 2138.57 1549.52 Q2136.4 1549.52 2134.08 1549.08 Q2131.79 1548.66 2129.34 1547.81 L2129.34 1543.29 Q2131.28 1544.43 2133.6 1545.01 Q2135.91 1545.58 2138.43 1545.58 Q2142.83 1545.58 2145.12 1543.85 Q2147.44 1542.11 2147.44 1538.8 Q2147.44 1535.75 2145.29 1534.03 Q2143.16 1532.3 2139.34 1532.3 L2135.31 1532.3 L2135.31 1528.45 L2139.52 1528.45 Q2142.97 1528.45 2144.8 1527.09 Q2146.63 1525.7 2146.63 1523.11 Q2146.63 1520.45 2144.73 1519.03 Q2142.86 1517.6 2139.34 1517.6 Q2137.42 1517.6 2135.22 1518.01 Q2133.02 1518.43 2130.38 1519.31 L2130.38 1515.14 Q2133.04 1514.4 2135.36 1514.03 Q2137.69 1513.66 2139.75 1513.66 Q2145.08 1513.66 2148.18 1516.09 Q2151.28 1518.5 2151.28 1522.62 Q2151.28 1525.49 2149.64 1527.48 Q2147.99 1529.45 2144.96 1530.21 Z\" fill=\"#000000\" fill-rule=\"evenodd\" fill-opacity=\"1\" /><path clip-path=\"url(#clip380)\" d=\"M2170.96 1517.37 Q2167.35 1517.37 2165.52 1520.93 Q2163.71 1524.47 2163.71 1531.6 Q2163.71 1538.71 2165.52 1542.27 Q2167.35 1545.82 2170.96 1545.82 Q2174.59 1545.82 2176.4 1542.27 Q2178.23 1538.71 2178.23 1531.6 Q2178.23 1524.47 2176.4 1520.93 Q2174.59 1517.37 2170.96 1517.37 M2170.96 1513.66 Q2176.77 1513.66 2179.82 1518.27 Q2182.9 1522.85 2182.9 1531.6 Q2182.9 1540.33 2179.82 1544.94 Q2176.77 1549.52 2170.96 1549.52 Q2165.15 1549.52 2162.07 1544.94 Q2159.01 1540.33 2159.01 1531.6 Q2159.01 1522.85 2162.07 1518.27 Q2165.15 1513.66 2170.96 1513.66 Z\" fill=\"#000000\" fill-rule=\"evenodd\" fill-opacity=\"1\" /><polyline clip-path=\"url(#clip382)\" style=\"stroke:#000000; stroke-linecap:butt; stroke-linejoin:round; stroke-width:2; stroke-opacity:0.1; fill:none\" points=\"\n",
       "  147.478,1486.45 2352.76,1486.45 \n",
       "  \"/>\n",
       "<polyline clip-path=\"url(#clip382)\" style=\"stroke:#000000; stroke-linecap:butt; stroke-linejoin:round; stroke-width:2; stroke-opacity:0.1; fill:none\" points=\"\n",
       "  147.478,1006.71 2352.76,1006.71 \n",
       "  \"/>\n",
       "<polyline clip-path=\"url(#clip382)\" style=\"stroke:#000000; stroke-linecap:butt; stroke-linejoin:round; stroke-width:2; stroke-opacity:0.1; fill:none\" points=\"\n",
       "  147.478,526.979 2352.76,526.979 \n",
       "  \"/>\n",
       "<polyline clip-path=\"url(#clip382)\" style=\"stroke:#000000; stroke-linecap:butt; stroke-linejoin:round; stroke-width:2; stroke-opacity:0.1; fill:none\" points=\"\n",
       "  147.478,47.2441 2352.76,47.2441 \n",
       "  \"/>\n",
       "<polyline clip-path=\"url(#clip380)\" style=\"stroke:#000000; stroke-linecap:butt; stroke-linejoin:round; stroke-width:4; stroke-opacity:1; fill:none\" points=\"\n",
       "  147.478,1486.45 147.478,47.2441 \n",
       "  \"/>\n",
       "<polyline clip-path=\"url(#clip380)\" style=\"stroke:#000000; stroke-linecap:butt; stroke-linejoin:round; stroke-width:4; stroke-opacity:1; fill:none\" points=\"\n",
       "  147.478,1486.45 166.376,1486.45 \n",
       "  \"/>\n",
       "<polyline clip-path=\"url(#clip380)\" style=\"stroke:#000000; stroke-linecap:butt; stroke-linejoin:round; stroke-width:4; stroke-opacity:1; fill:none\" points=\"\n",
       "  147.478,1006.71 166.376,1006.71 \n",
       "  \"/>\n",
       "<polyline clip-path=\"url(#clip380)\" style=\"stroke:#000000; stroke-linecap:butt; stroke-linejoin:round; stroke-width:4; stroke-opacity:1; fill:none\" points=\"\n",
       "  147.478,526.979 166.376,526.979 \n",
       "  \"/>\n",
       "<polyline clip-path=\"url(#clip380)\" style=\"stroke:#000000; stroke-linecap:butt; stroke-linejoin:round; stroke-width:4; stroke-opacity:1; fill:none\" points=\"\n",
       "  147.478,47.2441 166.376,47.2441 \n",
       "  \"/>\n",
       "<path clip-path=\"url(#clip380)\" d=\"M50.9921 1486.9 L80.6679 1486.9 L80.6679 1490.83 L50.9921 1490.83 L50.9921 1486.9 Z\" fill=\"#000000\" fill-rule=\"evenodd\" fill-opacity=\"1\" /><path clip-path=\"url(#clip380)\" d=\"M91.5706 1499.79 L99.2095 1499.79 L99.2095 1473.43 L90.8993 1475.09 L90.8993 1470.83 L99.1632 1469.17 L103.839 1469.17 L103.839 1499.79 L111.478 1499.79 L111.478 1503.73 L91.5706 1503.73 L91.5706 1499.79 Z\" fill=\"#000000\" fill-rule=\"evenodd\" fill-opacity=\"1\" /><path clip-path=\"url(#clip380)\" d=\"M99.5335 992.512 Q95.9224 992.512 94.0937 996.077 Q92.2882 999.618 92.2882 1006.75 Q92.2882 1013.85 94.0937 1017.42 Q95.9224 1020.96 99.5335 1020.96 Q103.168 1020.96 104.973 1017.42 Q106.802 1013.85 106.802 1006.75 Q106.802 999.618 104.973 996.077 Q103.168 992.512 99.5335 992.512 M99.5335 988.808 Q105.344 988.808 108.399 993.415 Q111.478 997.998 111.478 1006.75 Q111.478 1015.47 108.399 1020.08 Q105.344 1024.66 99.5335 1024.66 Q93.7234 1024.66 90.6447 1020.08 Q87.5892 1015.47 87.5892 1006.75 Q87.5892 997.998 90.6447 993.415 Q93.7234 988.808 99.5335 988.808 Z\" fill=\"#000000\" fill-rule=\"evenodd\" fill-opacity=\"1\" /><path clip-path=\"url(#clip380)\" d=\"M91.5706 540.324 L99.2095 540.324 L99.2095 513.958 L90.8993 515.625 L90.8993 511.365 L99.1632 509.699 L103.839 509.699 L103.839 540.324 L111.478 540.324 L111.478 544.259 L91.5706 544.259 L91.5706 540.324 Z\" fill=\"#000000\" fill-rule=\"evenodd\" fill-opacity=\"1\" /><path clip-path=\"url(#clip380)\" d=\"M95.1586 60.5889 L111.478 60.5889 L111.478 64.5241 L89.5336 64.5241 L89.5336 60.5889 Q92.1956 57.8343 96.7789 53.2047 Q101.385 48.552 102.566 47.2094 Q104.811 44.6862 105.691 42.9501 Q106.594 41.1909 106.594 39.5011 Q106.594 36.7465 104.649 35.0104 Q102.728 33.2743 99.6261 33.2743 Q97.4271 33.2743 94.9734 34.0381 Q92.5428 34.802 89.7651 36.3529 L89.7651 31.6308 Q92.5891 30.4965 95.0428 29.9178 Q97.4965 29.3391 99.5335 29.3391 Q104.904 29.3391 108.098 32.0243 Q111.293 34.7094 111.293 39.2002 Q111.293 41.3298 110.483 43.2511 Q109.696 45.1492 107.589 47.7418 Q107.01 48.4131 103.909 51.6306 Q100.807 54.8251 95.1586 60.5889 Z\" fill=\"#000000\" fill-rule=\"evenodd\" fill-opacity=\"1\" /><polyline clip-path=\"url(#clip382)\" style=\"stroke:#009af9; stroke-linecap:butt; stroke-linejoin:round; stroke-width:4; stroke-opacity:1; fill:none\" points=\"\n",
       "  209.891,1006.71 277.003,1006.71 344.114,1006.71 411.225,1006.71 478.337,1006.71 545.448,526.979 612.559,526.979 679.671,1006.71 746.782,526.979 813.893,526.979 \n",
       "  881.005,1006.71 948.116,1006.71 1015.23,526.979 1082.34,1006.71 1149.45,1006.71 1216.56,526.979 1283.67,526.979 1350.78,526.979 1417.9,526.979 1485.01,1006.71 \n",
       "  1552.12,526.979 1619.23,526.979 1686.34,526.979 1753.45,526.979 1820.56,526.979 1887.67,526.979 1954.79,526.979 2021.9,526.979 2089.01,526.979 2156.12,526.979 \n",
       "  2223.23,526.979 2290.34,526.979 \n",
       "  \"/>\n",
       "<polyline clip-path=\"url(#clip382)\" style=\"stroke:#e26f46; stroke-linecap:butt; stroke-linejoin:round; stroke-width:4; stroke-opacity:1; fill:none\" points=\"\n",
       "  209.891,1006.71 277.003,1006.71 344.114,1006.71 411.225,1006.71 478.337,1006.71 545.448,1006.71 612.559,1006.71 679.671,1006.71 746.782,1006.71 813.893,1006.71 \n",
       "  881.005,1006.71 948.116,1006.71 1015.23,1006.71 1082.34,1006.71 1149.45,1006.71 1216.56,526.979 1283.67,526.979 1350.78,526.979 1417.9,526.979 1485.01,526.979 \n",
       "  1552.12,526.979 1619.23,526.979 1686.34,526.979 1753.45,526.979 1820.56,526.979 1887.67,526.979 1954.79,526.979 2021.9,526.979 2089.01,526.979 2156.12,526.979 \n",
       "  2223.23,526.979 2290.34,526.979 \n",
       "  \"/>\n",
       "<path clip-path=\"url(#clip380)\" d=\"\n",
       "M1981.79 250.738 L2279.25 250.738 L2279.25 95.2176 L1981.79 95.2176  Z\n",
       "  \" fill=\"#ffffff\" fill-rule=\"evenodd\" fill-opacity=\"1\"/>\n",
       "<polyline clip-path=\"url(#clip380)\" style=\"stroke:#000000; stroke-linecap:butt; stroke-linejoin:round; stroke-width:4; stroke-opacity:1; fill:none\" points=\"\n",
       "  1981.79,250.738 2279.25,250.738 2279.25,95.2176 1981.79,95.2176 1981.79,250.738 \n",
       "  \"/>\n",
       "<polyline clip-path=\"url(#clip380)\" style=\"stroke:#009af9; stroke-linecap:butt; stroke-linejoin:round; stroke-width:4; stroke-opacity:1; fill:none\" points=\"\n",
       "  2006.29,147.058 2153.31,147.058 \n",
       "  \"/>\n",
       "<path clip-path=\"url(#clip380)\" d=\"M2191.65 166.745 Q2189.85 171.375 2188.13 172.787 Q2186.42 174.199 2183.55 174.199 L2180.15 174.199 L2180.15 170.634 L2182.65 170.634 Q2184.41 170.634 2185.38 169.8 Q2186.35 168.967 2187.53 165.865 L2188.3 163.921 L2177.81 138.412 L2182.32 138.412 L2190.43 158.689 L2198.53 138.412 L2203.04 138.412 L2191.65 166.745 Z\" fill=\"#000000\" fill-rule=\"evenodd\" fill-opacity=\"1\" /><path clip-path=\"url(#clip380)\" d=\"M2210.33 160.402 L2217.97 160.402 L2217.97 134.037 L2209.66 135.703 L2209.66 131.444 L2217.93 129.778 L2222.6 129.778 L2222.6 160.402 L2230.24 160.402 L2230.24 164.338 L2210.33 164.338 L2210.33 160.402 Z\" fill=\"#000000\" fill-rule=\"evenodd\" fill-opacity=\"1\" /><polyline clip-path=\"url(#clip380)\" style=\"stroke:#e26f46; stroke-linecap:butt; stroke-linejoin:round; stroke-width:4; stroke-opacity:1; fill:none\" points=\"\n",
       "  2006.29,198.898 2153.31,198.898 \n",
       "  \"/>\n",
       "<path clip-path=\"url(#clip380)\" d=\"M2191.65 218.585 Q2189.85 223.215 2188.13 224.627 Q2186.42 226.039 2183.55 226.039 L2180.15 226.039 L2180.15 222.474 L2182.65 222.474 Q2184.41 222.474 2185.38 221.64 Q2186.35 220.807 2187.53 217.705 L2188.3 215.761 L2177.81 190.252 L2182.32 190.252 L2190.43 210.529 L2198.53 190.252 L2203.04 190.252 L2191.65 218.585 Z\" fill=\"#000000\" fill-rule=\"evenodd\" fill-opacity=\"1\" /><path clip-path=\"url(#clip380)\" d=\"M2213.55 212.242 L2229.87 212.242 L2229.87 216.178 L2207.93 216.178 L2207.93 212.242 Q2210.59 209.488 2215.17 204.858 Q2219.78 200.205 2220.96 198.863 Q2223.2 196.34 2224.08 194.604 Q2224.99 192.844 2224.99 191.155 Q2224.99 188.4 2223.04 186.664 Q2221.12 184.928 2218.02 184.928 Q2215.82 184.928 2213.37 185.692 Q2210.94 186.455 2208.16 188.006 L2208.16 183.284 Q2210.98 182.15 2213.43 181.571 Q2215.89 180.993 2217.93 180.993 Q2223.3 180.993 2226.49 183.678 Q2229.68 186.363 2229.68 190.854 Q2229.68 192.983 2228.87 194.905 Q2228.09 196.803 2225.98 199.395 Q2225.4 200.067 2222.3 203.284 Q2219.2 206.479 2213.55 212.242 Z\" fill=\"#000000\" fill-rule=\"evenodd\" fill-opacity=\"1\" /></svg>\n"
      ]
     },
     "execution_count": 291,
     "metadata": {},
     "output_type": "execute_result"
    }
   ],
   "source": [
    "Nt=size(ytest)[1]\n",
    "b_test=ones(Nt,1)\n",
    "for i=1:Nt\n",
    "    if ytest[i,1]==\"R\"\n",
    "        b_test[i,1]=0\n",
    "    end\n",
    "end\n",
    "b_et = [ones(Nt,1) Xtest']*β;\n",
    "for i=1:Nt\n",
    "    if b_et[i,1]<0.5\n",
    "        b_et[i,1]=0\n",
    "    else\n",
    "        b_et[i,1]=1\n",
    "    end\n",
    "end\n",
    "plot(1:Nt,[b_et,b_test], ylims = (-1, 2))"
   ]
  },
  {
   "cell_type": "code",
   "execution_count": 293,
   "id": "377b04c1",
   "metadata": {},
   "outputs": [
    {
     "data": {
      "text/plain": [
       "1×3 Matrix{Float64}:\n",
       " 76.1905  94.1176  81.25"
      ]
     },
     "execution_count": 293,
     "metadata": {},
     "output_type": "execute_result"
    }
   ],
   "source": [
    "confusion_matrix_ls = MLBase.roc(vec(Int.(b_test)), vec(Int.(b_et)))\n",
    "ls_precision = confusion_matrix_ls.tp/(confusion_matrix_ls.tp+confusion_matrix_ls.fp)*100\n",
    "ls_recall = confusion_matrix_ls.tp/(confusion_matrix_ls.tp+confusion_matrix_ls.fn)*100\n",
    "ls_accuracy = (confusion_matrix_ls.tp+confusion_matrix_ls.tn)/(confusion_matrix_ls.tp+confusion_matrix_ls.fp+confusion_matrix_ls.tn+confusion_matrix_ls.fn)*100\n",
    "[ls_precision ls_recall ls_accuracy]"
   ]
  },
  {
   "cell_type": "markdown",
   "id": "0363063e",
   "metadata": {},
   "source": [
    "### 3.c. Logistic regretion\n",
    "For this model is used again the $0$ and $1$ parametrization for the $R$ and $M$ labels, and the probabilities give by the regretion assign the $R$ and $M$ labels for the test data.\n",
    "\n",
    "For this model is used mainly the GLM package"
   ]
  },
  {
   "cell_type": "code",
   "execution_count": 162,
   "id": "720d4e3f",
   "metadata": {
    "scrolled": false
   },
   "outputs": [
    {
     "data": {
      "text/plain": [
       "StatsModels.TableRegressionModel{GeneralizedLinearModel{GLM.GlmResp{Vector{Float64}, Binomial{Float64}, ProbitLink}, GLM.DensePredChol{Float64, LinearAlgebra.Cholesky{Float64, Matrix{Float64}}}}, Matrix{Float64}}\n",
       "\n",
       "y ~ 1 + a1 + a2 + a3 + a4 + a5 + a6 + a7 + a8 + a9 + a10 + a11 + a12 + a13 + a14 + a15 + a16 + a17 + a18 + a19 + a20 + a21 + a22 + a23 + a24 + a25 + a26 + a27 + a28 + a29 + a30 + a31 + a32 + a33 + a34 + a35 + a36 + a37 + a38 + a39 + a40 + a41 + a42 + a43 + a44 + a45 + a46 + a47 + a48 + a49 + a50 + a51 + a52 + a53 + a54 + a55 + a56 + a57 + a58 + a59 + a60\n",
       "\n",
       "Coefficients:\n",
       "──────────────────────────────────────────────────────────────────────────────────────────\n",
       "                   Coef.      Std. Error      z  Pr(>|z|)        Lower 95%       Upper 95%\n",
       "──────────────────────────────────────────────────────────────────────────────────────────\n",
       "(Intercept)   -49.5734     22532.1        -0.00    0.9982   -44211.6         44112.5\n",
       "a1            285.718          2.77047e5   0.00    0.9992       -5.42717e5       5.43289e5\n",
       "a2            -66.8541         1.56434e5  -0.00    0.9997       -3.06671e5       3.06538e5\n",
       "a3           -290.027      96138.4        -0.00    0.9976       -1.88718e5       1.88138e5\n",
       "a4              5.63929        1.21297e5   0.00    1.0000       -2.37732e5       2.37743e5\n",
       "a5            -26.3536     34309.9        -0.00    0.9994   -67272.5         67219.7\n",
       "a6            137.549      97316.7         0.00    0.9989       -1.906e5         1.90875e5\n",
       "a7           -154.26       98583.5        -0.00    0.9988       -1.93374e5       1.93066e5\n",
       "a8             46.1751     74952.0         0.00    0.9995  -146857.0             1.46949e5\n",
       "a9            -35.052      72329.8        -0.00    0.9996       -1.41799e5       1.41729e5\n",
       "a10           -10.4689     40563.1        -0.00    0.9998   -79512.8         79491.8\n",
       "a11            41.8416     52767.7         0.00    0.9994       -1.03381e5       1.03465e5\n",
       "a12            47.8667     52021.2         0.00    0.9993       -1.01912e5       1.02007e5\n",
       "a13            17.6808     33528.9         0.00    0.9996   -65697.8         65733.2\n",
       "a14            18.9517     45990.1         0.00    0.9997   -90120.0         90157.9\n",
       "a15           -10.3034     37329.8        -0.00    0.9998   -73175.5         73154.8\n",
       "a16           -23.3945     28913.1        -0.00    0.9994   -56692.1         56645.3\n",
       "a17           -48.1229     26430.9        -0.00    0.9985   -51851.8         51755.5\n",
       "a18            67.3779     31957.1         0.00    0.9983   -62567.4         62702.1\n",
       "a19           -16.9473     37613.7        -0.00    0.9996   -73738.5         73704.6\n",
       "a20             0.322685   59620.1         0.00    1.0000       -1.16853e5       1.16853e5\n",
       "a21           -20.5514     43304.1        -0.00    0.9996   -84894.9         84853.8\n",
       "a22            67.1072     40231.7         0.00    0.9987   -78785.5         78919.7\n",
       "a23           -78.5618     40458.1        -0.00    0.9985   -79374.9         79217.8\n",
       "a24           121.752      52795.1         0.00    0.9982       -1.03355e5       1.03598e5\n",
       "a25          -106.593      47226.2        -0.00    0.9982   -92668.2         92455.0\n",
       "a26            56.5626     38782.2         0.00    0.9988   -75955.1         76068.3\n",
       "a27           -34.3923     43850.0        -0.00    0.9994   -85978.8         85910.0\n",
       "a28            55.5917     46074.3         0.00    0.9990   -90248.3         90359.5\n",
       "a29           -68.113      28231.6        -0.00    0.9981   -55401.0         55264.8\n",
       "a30            81.3446     41312.3         0.00    0.9984   -80889.3         81052.0\n",
       "a31           -46.0218     35845.8        -0.00    0.9990   -70302.5         70210.5\n",
       "a32           -34.6588     21392.8        -0.00    0.9987   -41963.7         41894.4\n",
       "a33            50.4674     23225.4         0.00    0.9983   -45470.5         45571.4\n",
       "a34           -74.4514     29837.8        -0.00    0.9980   -58555.4         58406.5\n",
       "a35           104.483      16859.1         0.01    0.9951   -32938.8         33147.8\n",
       "a36           -69.0686     26848.7        -0.00    0.9979   -52691.5         52553.4\n",
       "a37           -16.046      36553.3        -0.00    0.9996   -71659.3         71627.2\n",
       "a38            10.1792     58112.4         0.00    0.9999  -113888.0             1.13908e5\n",
       "a39            36.9401     48507.0         0.00    0.9994   -95035.1         95109.0\n",
       "a40           -57.5868     55510.5        -0.00    0.9992       -1.08856e5       1.08741e5\n",
       "a41           -18.2933     56464.8        -0.00    0.9997       -1.10687e5       1.10651e5\n",
       "a42            55.6234     32342.0         0.00    0.9986   -63333.4         63444.7\n",
       "a43           -70.0429     28355.1        -0.00    0.9980   -55645.1         55505.0\n",
       "a44           113.911      24906.7         0.00    0.9964   -48702.4         48930.2\n",
       "a45           -70.2325     81803.9        -0.00    0.9993  -160403.0             1.60262e5\n",
       "a46            88.4256     67543.0         0.00    0.9990       -1.32293e5       1.3247e5\n",
       "a47            51.8223     82074.8         0.00    0.9995       -1.60812e5       1.60915e5\n",
       "a48           -16.6806         1.81717e5  -0.00    0.9999       -3.56175e5       3.56141e5\n",
       "a49           274.376          1.11409e5   0.00    0.9980       -2.18083e5       2.18631e5\n",
       "a50          -849.074     216352.0        -0.00    0.9969       -4.24891e5       4.23193e5\n",
       "a51           175.623          4.17096e5   0.00    0.9997       -8.17318e5       8.17669e5\n",
       "a52           737.706          3.43536e5   0.00    0.9983       -6.7258e5        6.74056e5\n",
       "a53           113.828          3.08488e5   0.00    0.9997       -6.04512e5  604740.0\n",
       "a54           420.954     235841.0         0.00    0.9986       -4.61819e5       4.62661e5\n",
       "a55          -713.681          4.33947e5  -0.00    0.9987       -8.51235e5       8.49808e5\n",
       "a56           666.052          6.84243e5   0.00    0.9992       -1.34043e6       1.34176e6\n",
       "a57          -776.904          3.25954e5  -0.00    0.9981       -6.39634e5       6.3808e5\n",
       "a58           995.667          3.78738e5   0.00    0.9979       -7.41318e5       7.43309e5\n",
       "a59           841.686          9.42066e5   0.00    0.9993       -1.84557e6       1.84726e6\n",
       "a60          -284.119          5.35302e5  -0.00    0.9996       -1.04946e6       1.04889e6\n",
       "──────────────────────────────────────────────────────────────────────────────────────────"
      ]
     },
     "execution_count": 162,
     "metadata": {},
     "output_type": "execute_result"
    }
   ],
   "source": [
    "using Lathe\n",
    "using GLM\n",
    "using MLBase\n",
    "radar_train.y=vec(b)\n",
    "fm = @formula(y ~ a1 + a2 + a3 + a4 + a5 + a6 + a7 + a8 + a9 + a10 + a11 + a12 + a13 + a14 + a15 + a16 + a17 + a18 + a19 + a20 + a21 + a22 + a23 + a24 + a25 + a26 + a27 + a28 + a29 + a30 + a31 + a32 + a33 + a34 + a35 + a36 + a37 + a38 + a39 + a40 + a41 + a42 + a43 + a44 + a45 + a46 + a47 + a48 + a49 + a50 + a51 + a52 + a53 + a54 + a55 + a56 + a57 + a58 + a59 + a60 );\n",
    "logit = glm(fm, radar_train, Binomial(), ProbitLink())"
   ]
  },
  {
   "cell_type": "code",
   "execution_count": 294,
   "id": "9f2a079c",
   "metadata": {
    "scrolled": false
   },
   "outputs": [
    {
     "data": {
      "text/plain": [
       "1×3 Matrix{Float64}:\n",
       " 77.2727  100.0  84.375"
      ]
     },
     "execution_count": 294,
     "metadata": {},
     "output_type": "execute_result"
    }
   ],
   "source": [
    "p_logit = GLM.predict(logit, radar_test)\n",
    "predy_logit = [if x < 0.5 0 else 1 end for x in p_logit]\n",
    "confusion_matrix_logit = MLBase.roc(vec(Int.(b_test)), \n",
    "                              predy_logit)\n",
    "logit_precision = confusion_matrix_logit.tp/(confusion_matrix_logit.tp+confusion_matrix_logit.fp)*100\n",
    "logit_recall = confusion_matrix_logit.tp/(confusion_matrix_logit.tp+confusion_matrix_logit.fn)*100\n",
    "logit_accuracy = (confusion_matrix_logit.tp+confusion_matrix_logit.tn)/(confusion_matrix_logit.tp+confusion_matrix_logit.fp+confusion_matrix_logit.tn+confusion_matrix_logit.fn)*100\n",
    "[logit_precision logit_recall logit_accuracy]"
   ]
  },
  {
   "cell_type": "markdown",
   "id": "2ccb22d9",
   "metadata": {},
   "source": [
    "### 3.d. Decision Tree \n",
    "In this tipe of model is not necessary change the labels for binary data.\n",
    "\n",
    "For this model is used mainly the DecisionTree package"
   ]
  },
  {
   "cell_type": "code",
   "execution_count": 260,
   "id": "8fc97429",
   "metadata": {
    "scrolled": false
   },
   "outputs": [
    {
     "data": {
      "text/plain": [
       "Decision Tree\n",
       "Leaves: 12\n",
       "Depth:  7"
      ]
     },
     "execution_count": 260,
     "metadata": {},
     "output_type": "execute_result"
    }
   ],
   "source": [
    "using DecisionTree\n",
    "features=Xtrain'\n",
    "labels=ytrain\n",
    "features = float.(features)\n",
    "labels   = string.(labels)\n",
    "model_tree = build_tree(labels, features)"
   ]
  },
  {
   "cell_type": "code",
   "execution_count": 295,
   "id": "e6eb0bb6",
   "metadata": {},
   "outputs": [
    {
     "name": "stdout",
     "output_type": "stream",
     "text": [
      "Feature 11, Threshold 0.17885\n",
      "L-> Feature 4, Threshold 0.044950000000000004\n",
      "    L-> R : 43/43\n",
      "    R-> Feature 45, Threshold 0.16155\n",
      "        L-> Feature 24, Threshold 0.95945\n",
      "            L-> R : 11/11\n",
      "            R-> M : 2/2\n",
      "        R-> M : 8/8\n",
      "R-> Feature 45, Threshold 0.26365\n",
      "    L-> Feature 36, Threshold 0.5500499999999999\n",
      "        L-> Feature 23, Threshold 0.7845500000000001\n",
      "            L-> Feature 42, Threshold 0.27144999999999997\n",
      "                L-> Feature 40, Threshold 0.19515\n",
      "                    L-> Feature 39, Threshold 0.0903\n",
      "                        L-> R : 2/2\n",
      "                        R-> M : 7/7\n",
      "                    R-> Feature 52, Threshold 0.0245\n",
      "                        L-> R : 13/13\n",
      "                        R-> M : 1/1\n",
      "                R-> M : 14/14\n",
      "            R-> M : 32/32\n",
      "        R-> R : 13/13\n",
      "    R-> M : 30/30\n"
     ]
    }
   ],
   "source": [
    "print_tree(model_tree)"
   ]
  },
  {
   "cell_type": "code",
   "execution_count": 214,
   "id": "50708ddc",
   "metadata": {
    "scrolled": false
   },
   "outputs": [
    {
     "data": {
      "text/plain": [
       "2×2 Matrix{Int64}:\n",
       " 17   0\n",
       "  1  14"
      ]
     },
     "metadata": {},
     "output_type": "display_data"
    },
    {
     "data": {
      "text/plain": [
       "Classes:  [\"M\", \"R\"]\n",
       "Matrix:   \n",
       "Accuracy: 0.96875\n",
       "Kappa:    0.937007874015748"
      ]
     },
     "execution_count": 214,
     "metadata": {},
     "output_type": "execute_result"
    }
   ],
   "source": [
    "predy_tree = apply_tree(model_tree, Xtest')\n",
    "confusion_matrix_tree=DecisionTree.confusion_matrix(ytest, predy_tree)"
   ]
  },
  {
   "cell_type": "code",
   "execution_count": 310,
   "id": "26d8e3ab",
   "metadata": {
    "scrolled": false
   },
   "outputs": [
    {
     "data": {
      "text/plain": [
       "1×3 Matrix{Float64}:\n",
       " 94.4444  100.0  96.875"
      ]
     },
     "execution_count": 310,
     "metadata": {},
     "output_type": "execute_result"
    }
   ],
   "source": [
    "tp_tree=confusion_matrix_tree.matrix[1,1];\n",
    "tn_tree=confusion_matrix_tree.matrix[2,2];\n",
    "fp_tree=confusion_matrix_tree.matrix[2,1];\n",
    "fn_tree=confusion_matrix_tree.matrix[1,2];\n",
    "tree_recall=tp_tree/(tp_tree+fn_tree)*100\n",
    "tree_accuracy=(tp_tree+tn_tree)/(tp_tree+fn_tree+tn_tree+fp_tree)*100\n",
    "tree_precision=tp_tree/(tp_tree+fp_tree)*100\n",
    "[tree_precision tree_recall tree_accuracy]"
   ]
  },
  {
   "cell_type": "markdown",
   "id": "19aba231",
   "metadata": {},
   "source": [
    "### 4. Select the algorithm with the highest performance measure.\n",
    "### 5. Report the performance on the test data."
   ]
  },
  {
   "cell_type": "markdown",
   "id": "564c9510",
   "metadata": {},
   "source": [
    "In the $performance$ dataframe is show the model performance for the functions mentioned before. As I said in the second point the first critria will be the recall function, for this reason the $SVM2$ model and the Least squares model are discared. The other models have a 100% recall, but the model with highest accuracy is the Decision Tree model, for this reason this is the one choseen"
   ]
  },
  {
   "cell_type": "code",
   "execution_count": 309,
   "id": "6e7c434f",
   "metadata": {},
   "outputs": [
    {
     "data": {
      "text/html": [
       "<div class=\"data-frame\"><p>3 rows × 6 columns</p><table class=\"data-frame\"><thead><tr><th></th><th>function</th><th>LOGISTIC</th><th>SV1</th><th>SVM2</th><th>TREE</th><th>LEAST SQUARES</th></tr><tr><th></th><th title=\"Any\">Any</th><th title=\"Any\">Any</th><th title=\"Any\">Any</th><th title=\"Any\">Any</th><th title=\"Any\">Any</th><th title=\"Any\">Any</th></tr></thead><tbody><tr><th>1</th><td>recall</td><td>100.0</td><td>100.0</td><td>88.2353</td><td>100.0</td><td>94.1176</td></tr><tr><th>2</th><td>accuracy</td><td>84.375</td><td>68.75</td><td>84.375</td><td>96.875</td><td>81.25</td></tr><tr><th>3</th><td>precision</td><td>77.2727</td><td>62.963</td><td>83.3333</td><td>94.4444</td><td>76.1905</td></tr></tbody></table></div>"
      ],
      "text/latex": [
       "\\begin{tabular}{r|cccccc}\n",
       "\t& function & LOGISTIC & SV1 & SVM2 & TREE & LEAST SQUARES\\\\\n",
       "\t\\hline\n",
       "\t& Any & Any & Any & Any & Any & Any\\\\\n",
       "\t\\hline\n",
       "\t1 & recall & 100.0 & 100.0 & 88.2353 & 100.0 & 94.1176 \\\\\n",
       "\t2 & accuracy & 84.375 & 68.75 & 84.375 & 96.875 & 81.25 \\\\\n",
       "\t3 & precision & 77.2727 & 62.963 & 83.3333 & 94.4444 & 76.1905 \\\\\n",
       "\\end{tabular}\n"
      ],
      "text/plain": [
       "\u001b[1m3×6 DataFrame\u001b[0m\n",
       "\u001b[1m Row \u001b[0m│\u001b[1m function  \u001b[0m\u001b[1m LOGISTIC \u001b[0m\u001b[1m SV1    \u001b[0m\u001b[1m SVM2    \u001b[0m\u001b[1m TREE    \u001b[0m\u001b[1m LEAST SQUARES \u001b[0m\n",
       "\u001b[1m     \u001b[0m│\u001b[90m Any       \u001b[0m\u001b[90m Any      \u001b[0m\u001b[90m Any    \u001b[0m\u001b[90m Any     \u001b[0m\u001b[90m Any     \u001b[0m\u001b[90m Any           \u001b[0m\n",
       "─────┼──────────────────────────────────────────────────────────────\n",
       "   1 │ recall     100.0     100.0   88.2353  100.0    94.1176\n",
       "   2 │ accuracy   84.375    68.75   84.375   96.875   81.25\n",
       "   3 │ precision  77.2727   62.963  83.3333  94.4444  76.1905"
      ]
     },
     "execution_count": 309,
     "metadata": {},
     "output_type": "execute_result"
    }
   ],
   "source": [
    "BT=[\"function\" \"LOGISTIC\" \"SV1\" \"SVM2\" \"TREE\" \"LEAST SQUARES\"]\n",
    "A=[\"recall\" logit_recall SVM1_recall SVM2_recall tree_recall ls_recall;\n",
    "\"accuracy\" logit_accuracy SVM1_accuracy SVM2_accuracy tree_accuracy ls_accuracy;\n",
    "\"precision\" logit_precision SVM1_precision SVM2_precision tree_precision ls_precision\n",
    "]\n",
    "performance = DataFrame(A, Symbol.(vec(BT)))"
   ]
  }
 ],
 "metadata": {
  "kernelspec": {
   "display_name": "Julia 1.7.2",
   "language": "julia",
   "name": "julia-1.7"
  },
  "language_info": {
   "file_extension": ".jl",
   "mimetype": "application/julia",
   "name": "julia",
   "version": "1.7.2"
  }
 },
 "nbformat": 4,
 "nbformat_minor": 5
}
